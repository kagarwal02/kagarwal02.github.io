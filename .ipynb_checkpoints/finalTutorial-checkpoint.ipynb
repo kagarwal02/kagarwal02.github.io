{
 "cells": [
  {
   "cell_type": "markdown",
   "metadata": {
    "id": "HR3IpMyLVNbO"
   },
   "source": [
    "# **Predicting Red Wine Quality**\n",
    "### **By Kristopher Agarwal**\n",
    "\n",
    "---\n",
    "\n"
   ]
  },
  {
   "cell_type": "markdown",
   "metadata": {
    "id": "wZHtAgZrViLd"
   },
   "source": [
    "## **Introduction**\n",
    "Red wine is one of the most popular alcoholic beverages in the world, but also one of the most complex.  In the United States, from 2000 to 2021, wine consumption has gone up by over 50%, from 2.00 gallons per resident to 3.18 gallons.  The total amount of wine consumed in the US over that same time period has almost doubled.  With a global market valued at over $400 billion annually, and a projected annual growth rate of 6.4%, it is important to be able to accurately classify and quantify the quality of wine so that it can be priced accordingly.  There are many different factors that contribute to the quality of wine, including climate, weather, exposure to sunlight, and soil quality.  However, these systems are large and complex, and thus difficult to analyze.  Therefore, in this project, we will be looking at the way these factors manifest themselves: the chemical makeup of the wine itself.\n",
    "\n",
    "The purpose of this project is to take you through the entire data science pipeline, starting with data curation, parsing, and management, and ending with the insights that we learned along the way.  The data from this project comes from the University of California Irvine's dataset on red wine samples taken from northern Portugal, and includes factors such as acidity, sugars, sulphates, alcohol content, and more.  The quality of the wines is measured on a scale of 0 (lowest quality wine) to 10 (highest quality wine).  We will be using this data to perform the k-Nearest Neighbors algorithm as well as Logistic Regression in order to be able to categorize the quality of wine into either high or low quality based on these chemical indicators.\n",
    "\n",
    "---\n",
    "\n"
   ]
  },
  {
   "cell_type": "markdown",
   "metadata": {
    "id": "14k1HjRBbvJO"
   },
   "source": [
    "## **Part 1: Data Curation, Parsing, and Management**\n",
    "\n"
   ]
  },
  {
   "cell_type": "markdown",
   "metadata": {
    "id": "cgwZo216cK51"
   },
   "source": [
    "In this section, we are going to be collecting the data from its source and preparing it for analysis.  UC Irvine has already done much of this work for us and has organized it in a CSV file.  Our job is now to gather and parse that CSV file using Pandas DataFrames.  Since I am making this project in Google Colab, I first need to import the CSV file from my Google Drive so that I can use it.  If you are following along in another software, such as a Jupyter Notebook, you do not have to do this step. "
   ]
  },
  {
   "cell_type": "code",
   "execution_count": 85,
   "metadata": {
    "colab": {
     "base_uri": "https://localhost:8080/",
     "height": 74
    },
    "id": "liCMlR5NU5NJ",
    "outputId": "6cb73c0e-e772-4149-e06a-73c22f9c9f15"
   },
   "outputs": [
    {
     "data": {
      "text/html": [
       "\n",
       "     <input type=\"file\" id=\"files-d155374c-006e-44e0-9fe1-1769761744c3\" name=\"files[]\" multiple disabled\n",
       "        style=\"border:none\" />\n",
       "     <output id=\"result-d155374c-006e-44e0-9fe1-1769761744c3\">\n",
       "      Upload widget is only available when the cell has been executed in the\n",
       "      current browser session. Please rerun this cell to enable.\n",
       "      </output>\n",
       "      <script>// Copyright 2017 Google LLC\n",
       "//\n",
       "// Licensed under the Apache License, Version 2.0 (the \"License\");\n",
       "// you may not use this file except in compliance with the License.\n",
       "// You may obtain a copy of the License at\n",
       "//\n",
       "//      http://www.apache.org/licenses/LICENSE-2.0\n",
       "//\n",
       "// Unless required by applicable law or agreed to in writing, software\n",
       "// distributed under the License is distributed on an \"AS IS\" BASIS,\n",
       "// WITHOUT WARRANTIES OR CONDITIONS OF ANY KIND, either express or implied.\n",
       "// See the License for the specific language governing permissions and\n",
       "// limitations under the License.\n",
       "\n",
       "/**\n",
       " * @fileoverview Helpers for google.colab Python module.\n",
       " */\n",
       "(function(scope) {\n",
       "function span(text, styleAttributes = {}) {\n",
       "  const element = document.createElement('span');\n",
       "  element.textContent = text;\n",
       "  for (const key of Object.keys(styleAttributes)) {\n",
       "    element.style[key] = styleAttributes[key];\n",
       "  }\n",
       "  return element;\n",
       "}\n",
       "\n",
       "// Max number of bytes which will be uploaded at a time.\n",
       "const MAX_PAYLOAD_SIZE = 100 * 1024;\n",
       "\n",
       "function _uploadFiles(inputId, outputId) {\n",
       "  const steps = uploadFilesStep(inputId, outputId);\n",
       "  const outputElement = document.getElementById(outputId);\n",
       "  // Cache steps on the outputElement to make it available for the next call\n",
       "  // to uploadFilesContinue from Python.\n",
       "  outputElement.steps = steps;\n",
       "\n",
       "  return _uploadFilesContinue(outputId);\n",
       "}\n",
       "\n",
       "// This is roughly an async generator (not supported in the browser yet),\n",
       "// where there are multiple asynchronous steps and the Python side is going\n",
       "// to poll for completion of each step.\n",
       "// This uses a Promise to block the python side on completion of each step,\n",
       "// then passes the result of the previous step as the input to the next step.\n",
       "function _uploadFilesContinue(outputId) {\n",
       "  const outputElement = document.getElementById(outputId);\n",
       "  const steps = outputElement.steps;\n",
       "\n",
       "  const next = steps.next(outputElement.lastPromiseValue);\n",
       "  return Promise.resolve(next.value.promise).then((value) => {\n",
       "    // Cache the last promise value to make it available to the next\n",
       "    // step of the generator.\n",
       "    outputElement.lastPromiseValue = value;\n",
       "    return next.value.response;\n",
       "  });\n",
       "}\n",
       "\n",
       "/**\n",
       " * Generator function which is called between each async step of the upload\n",
       " * process.\n",
       " * @param {string} inputId Element ID of the input file picker element.\n",
       " * @param {string} outputId Element ID of the output display.\n",
       " * @return {!Iterable<!Object>} Iterable of next steps.\n",
       " */\n",
       "function* uploadFilesStep(inputId, outputId) {\n",
       "  const inputElement = document.getElementById(inputId);\n",
       "  inputElement.disabled = false;\n",
       "\n",
       "  const outputElement = document.getElementById(outputId);\n",
       "  outputElement.innerHTML = '';\n",
       "\n",
       "  const pickedPromise = new Promise((resolve) => {\n",
       "    inputElement.addEventListener('change', (e) => {\n",
       "      resolve(e.target.files);\n",
       "    });\n",
       "  });\n",
       "\n",
       "  const cancel = document.createElement('button');\n",
       "  inputElement.parentElement.appendChild(cancel);\n",
       "  cancel.textContent = 'Cancel upload';\n",
       "  const cancelPromise = new Promise((resolve) => {\n",
       "    cancel.onclick = () => {\n",
       "      resolve(null);\n",
       "    };\n",
       "  });\n",
       "\n",
       "  // Wait for the user to pick the files.\n",
       "  const files = yield {\n",
       "    promise: Promise.race([pickedPromise, cancelPromise]),\n",
       "    response: {\n",
       "      action: 'starting',\n",
       "    }\n",
       "  };\n",
       "\n",
       "  cancel.remove();\n",
       "\n",
       "  // Disable the input element since further picks are not allowed.\n",
       "  inputElement.disabled = true;\n",
       "\n",
       "  if (!files) {\n",
       "    return {\n",
       "      response: {\n",
       "        action: 'complete',\n",
       "      }\n",
       "    };\n",
       "  }\n",
       "\n",
       "  for (const file of files) {\n",
       "    const li = document.createElement('li');\n",
       "    li.append(span(file.name, {fontWeight: 'bold'}));\n",
       "    li.append(span(\n",
       "        `(${file.type || 'n/a'}) - ${file.size} bytes, ` +\n",
       "        `last modified: ${\n",
       "            file.lastModifiedDate ? file.lastModifiedDate.toLocaleDateString() :\n",
       "                                    'n/a'} - `));\n",
       "    const percent = span('0% done');\n",
       "    li.appendChild(percent);\n",
       "\n",
       "    outputElement.appendChild(li);\n",
       "\n",
       "    const fileDataPromise = new Promise((resolve) => {\n",
       "      const reader = new FileReader();\n",
       "      reader.onload = (e) => {\n",
       "        resolve(e.target.result);\n",
       "      };\n",
       "      reader.readAsArrayBuffer(file);\n",
       "    });\n",
       "    // Wait for the data to be ready.\n",
       "    let fileData = yield {\n",
       "      promise: fileDataPromise,\n",
       "      response: {\n",
       "        action: 'continue',\n",
       "      }\n",
       "    };\n",
       "\n",
       "    // Use a chunked sending to avoid message size limits. See b/62115660.\n",
       "    let position = 0;\n",
       "    do {\n",
       "      const length = Math.min(fileData.byteLength - position, MAX_PAYLOAD_SIZE);\n",
       "      const chunk = new Uint8Array(fileData, position, length);\n",
       "      position += length;\n",
       "\n",
       "      const base64 = btoa(String.fromCharCode.apply(null, chunk));\n",
       "      yield {\n",
       "        response: {\n",
       "          action: 'append',\n",
       "          file: file.name,\n",
       "          data: base64,\n",
       "        },\n",
       "      };\n",
       "\n",
       "      let percentDone = fileData.byteLength === 0 ?\n",
       "          100 :\n",
       "          Math.round((position / fileData.byteLength) * 100);\n",
       "      percent.textContent = `${percentDone}% done`;\n",
       "\n",
       "    } while (position < fileData.byteLength);\n",
       "  }\n",
       "\n",
       "  // All done.\n",
       "  yield {\n",
       "    response: {\n",
       "      action: 'complete',\n",
       "    }\n",
       "  };\n",
       "}\n",
       "\n",
       "scope.google = scope.google || {};\n",
       "scope.google.colab = scope.google.colab || {};\n",
       "scope.google.colab._files = {\n",
       "  _uploadFiles,\n",
       "  _uploadFilesContinue,\n",
       "};\n",
       "})(self);\n",
       "</script> "
      ],
      "text/plain": [
       "<IPython.core.display.HTML object>"
      ]
     },
     "metadata": {},
     "output_type": "display_data"
    },
    {
     "name": "stdout",
     "output_type": "stream",
     "text": [
      "Saving winequality-red.csv to winequality-red (2).csv\n"
     ]
    }
   ],
   "source": [
    "# upload the file so that it can be used in Google Colab\n",
    "from google.colab import files\n",
    "uploaded = files.upload()"
   ]
  },
  {
   "cell_type": "markdown",
   "metadata": {
    "id": "MmlNatvNeSf4"
   },
   "source": [
    "We now want to read our data from this CSV file into a Pandas DataFrame, so that we can continue with our analysis of the data.  If you are doing this outside of Google Colab, this is where you start.\n"
   ]
  },
  {
   "cell_type": "code",
   "execution_count": 86,
   "metadata": {
    "id": "8zZXt4vjd1Nj"
   },
   "outputs": [],
   "source": [
    "# General imports, these will be used throughout the project\n",
    "import io\n",
    "import pandas as pd\n",
    "import numpy as np\n",
    "import matplotlib.pyplot as plt\n",
    "import seaborn as sns\n",
    "from sklearn import *\n",
    "from sklearn.metrics import mean_squared_error\n",
    "from sklearn.linear_model import LogisticRegression\n",
    "from scipy import stats\n",
    "import statsmodels.api as smf"
   ]
  },
  {
   "cell_type": "code",
   "execution_count": 87,
   "metadata": {
    "colab": {
     "base_uri": "https://localhost:8080/",
     "height": 268
    },
    "id": "6G1e3j97eN9I",
    "outputId": "00f7c755-1c0c-46d5-f515-2915c0e28291"
   },
   "outputs": [
    {
     "data": {
      "text/html": [
       "\n",
       "  <div id=\"df-89edde3f-97a9-4fcf-a329-9586fd9404a0\">\n",
       "    <div class=\"colab-df-container\">\n",
       "      <div>\n",
       "<style scoped>\n",
       "    .dataframe tbody tr th:only-of-type {\n",
       "        vertical-align: middle;\n",
       "    }\n",
       "\n",
       "    .dataframe tbody tr th {\n",
       "        vertical-align: top;\n",
       "    }\n",
       "\n",
       "    .dataframe thead th {\n",
       "        text-align: right;\n",
       "    }\n",
       "</style>\n",
       "<table border=\"1\" class=\"dataframe\">\n",
       "  <thead>\n",
       "    <tr style=\"text-align: right;\">\n",
       "      <th></th>\n",
       "      <th>fixed acidity</th>\n",
       "      <th>volatile acidity</th>\n",
       "      <th>citric acid</th>\n",
       "      <th>residual sugar</th>\n",
       "      <th>chlorides</th>\n",
       "      <th>free sulfur dioxide</th>\n",
       "      <th>total sulfur dioxide</th>\n",
       "      <th>density</th>\n",
       "      <th>pH</th>\n",
       "      <th>sulphates</th>\n",
       "      <th>alcohol</th>\n",
       "      <th>quality</th>\n",
       "    </tr>\n",
       "  </thead>\n",
       "  <tbody>\n",
       "    <tr>\n",
       "      <th>0</th>\n",
       "      <td>7.4</td>\n",
       "      <td>0.70</td>\n",
       "      <td>0.00</td>\n",
       "      <td>1.9</td>\n",
       "      <td>0.076</td>\n",
       "      <td>11.0</td>\n",
       "      <td>34.0</td>\n",
       "      <td>0.9978</td>\n",
       "      <td>3.51</td>\n",
       "      <td>0.56</td>\n",
       "      <td>9.4</td>\n",
       "      <td>5</td>\n",
       "    </tr>\n",
       "    <tr>\n",
       "      <th>1</th>\n",
       "      <td>7.8</td>\n",
       "      <td>0.88</td>\n",
       "      <td>0.00</td>\n",
       "      <td>2.6</td>\n",
       "      <td>0.098</td>\n",
       "      <td>25.0</td>\n",
       "      <td>67.0</td>\n",
       "      <td>0.9968</td>\n",
       "      <td>3.20</td>\n",
       "      <td>0.68</td>\n",
       "      <td>9.8</td>\n",
       "      <td>5</td>\n",
       "    </tr>\n",
       "    <tr>\n",
       "      <th>2</th>\n",
       "      <td>7.8</td>\n",
       "      <td>0.76</td>\n",
       "      <td>0.04</td>\n",
       "      <td>2.3</td>\n",
       "      <td>0.092</td>\n",
       "      <td>15.0</td>\n",
       "      <td>54.0</td>\n",
       "      <td>0.9970</td>\n",
       "      <td>3.26</td>\n",
       "      <td>0.65</td>\n",
       "      <td>9.8</td>\n",
       "      <td>5</td>\n",
       "    </tr>\n",
       "    <tr>\n",
       "      <th>3</th>\n",
       "      <td>11.2</td>\n",
       "      <td>0.28</td>\n",
       "      <td>0.56</td>\n",
       "      <td>1.9</td>\n",
       "      <td>0.075</td>\n",
       "      <td>17.0</td>\n",
       "      <td>60.0</td>\n",
       "      <td>0.9980</td>\n",
       "      <td>3.16</td>\n",
       "      <td>0.58</td>\n",
       "      <td>9.8</td>\n",
       "      <td>6</td>\n",
       "    </tr>\n",
       "    <tr>\n",
       "      <th>4</th>\n",
       "      <td>7.4</td>\n",
       "      <td>0.70</td>\n",
       "      <td>0.00</td>\n",
       "      <td>1.9</td>\n",
       "      <td>0.076</td>\n",
       "      <td>11.0</td>\n",
       "      <td>34.0</td>\n",
       "      <td>0.9978</td>\n",
       "      <td>3.51</td>\n",
       "      <td>0.56</td>\n",
       "      <td>9.4</td>\n",
       "      <td>5</td>\n",
       "    </tr>\n",
       "  </tbody>\n",
       "</table>\n",
       "</div>\n",
       "      <button class=\"colab-df-convert\" onclick=\"convertToInteractive('df-89edde3f-97a9-4fcf-a329-9586fd9404a0')\"\n",
       "              title=\"Convert this dataframe to an interactive table.\"\n",
       "              style=\"display:none;\">\n",
       "        \n",
       "  <svg xmlns=\"http://www.w3.org/2000/svg\" height=\"24px\"viewBox=\"0 0 24 24\"\n",
       "       width=\"24px\">\n",
       "    <path d=\"M0 0h24v24H0V0z\" fill=\"none\"/>\n",
       "    <path d=\"M18.56 5.44l.94 2.06.94-2.06 2.06-.94-2.06-.94-.94-2.06-.94 2.06-2.06.94zm-11 1L8.5 8.5l.94-2.06 2.06-.94-2.06-.94L8.5 2.5l-.94 2.06-2.06.94zm10 10l.94 2.06.94-2.06 2.06-.94-2.06-.94-.94-2.06-.94 2.06-2.06.94z\"/><path d=\"M17.41 7.96l-1.37-1.37c-.4-.4-.92-.59-1.43-.59-.52 0-1.04.2-1.43.59L10.3 9.45l-7.72 7.72c-.78.78-.78 2.05 0 2.83L4 21.41c.39.39.9.59 1.41.59.51 0 1.02-.2 1.41-.59l7.78-7.78 2.81-2.81c.8-.78.8-2.07 0-2.86zM5.41 20L4 18.59l7.72-7.72 1.47 1.35L5.41 20z\"/>\n",
       "  </svg>\n",
       "      </button>\n",
       "      \n",
       "  <style>\n",
       "    .colab-df-container {\n",
       "      display:flex;\n",
       "      flex-wrap:wrap;\n",
       "      gap: 12px;\n",
       "    }\n",
       "\n",
       "    .colab-df-convert {\n",
       "      background-color: #E8F0FE;\n",
       "      border: none;\n",
       "      border-radius: 50%;\n",
       "      cursor: pointer;\n",
       "      display: none;\n",
       "      fill: #1967D2;\n",
       "      height: 32px;\n",
       "      padding: 0 0 0 0;\n",
       "      width: 32px;\n",
       "    }\n",
       "\n",
       "    .colab-df-convert:hover {\n",
       "      background-color: #E2EBFA;\n",
       "      box-shadow: 0px 1px 2px rgba(60, 64, 67, 0.3), 0px 1px 3px 1px rgba(60, 64, 67, 0.15);\n",
       "      fill: #174EA6;\n",
       "    }\n",
       "\n",
       "    [theme=dark] .colab-df-convert {\n",
       "      background-color: #3B4455;\n",
       "      fill: #D2E3FC;\n",
       "    }\n",
       "\n",
       "    [theme=dark] .colab-df-convert:hover {\n",
       "      background-color: #434B5C;\n",
       "      box-shadow: 0px 1px 3px 1px rgba(0, 0, 0, 0.15);\n",
       "      filter: drop-shadow(0px 1px 2px rgba(0, 0, 0, 0.3));\n",
       "      fill: #FFFFFF;\n",
       "    }\n",
       "  </style>\n",
       "\n",
       "      <script>\n",
       "        const buttonEl =\n",
       "          document.querySelector('#df-89edde3f-97a9-4fcf-a329-9586fd9404a0 button.colab-df-convert');\n",
       "        buttonEl.style.display =\n",
       "          google.colab.kernel.accessAllowed ? 'block' : 'none';\n",
       "\n",
       "        async function convertToInteractive(key) {\n",
       "          const element = document.querySelector('#df-89edde3f-97a9-4fcf-a329-9586fd9404a0');\n",
       "          const dataTable =\n",
       "            await google.colab.kernel.invokeFunction('convertToInteractive',\n",
       "                                                     [key], {});\n",
       "          if (!dataTable) return;\n",
       "\n",
       "          const docLinkHtml = 'Like what you see? Visit the ' +\n",
       "            '<a target=\"_blank\" href=https://colab.research.google.com/notebooks/data_table.ipynb>data table notebook</a>'\n",
       "            + ' to learn more about interactive tables.';\n",
       "          element.innerHTML = '';\n",
       "          dataTable['output_type'] = 'display_data';\n",
       "          await google.colab.output.renderOutput(dataTable, element);\n",
       "          const docLink = document.createElement('div');\n",
       "          docLink.innerHTML = docLinkHtml;\n",
       "          element.appendChild(docLink);\n",
       "        }\n",
       "      </script>\n",
       "    </div>\n",
       "  </div>\n",
       "  "
      ],
      "text/plain": [
       "   fixed acidity  volatile acidity  citric acid  residual sugar  chlorides  \\\n",
       "0            7.4              0.70         0.00             1.9      0.076   \n",
       "1            7.8              0.88         0.00             2.6      0.098   \n",
       "2            7.8              0.76         0.04             2.3      0.092   \n",
       "3           11.2              0.28         0.56             1.9      0.075   \n",
       "4            7.4              0.70         0.00             1.9      0.076   \n",
       "\n",
       "   free sulfur dioxide  total sulfur dioxide  density    pH  sulphates  \\\n",
       "0                 11.0                  34.0   0.9978  3.51       0.56   \n",
       "1                 25.0                  67.0   0.9968  3.20       0.68   \n",
       "2                 15.0                  54.0   0.9970  3.26       0.65   \n",
       "3                 17.0                  60.0   0.9980  3.16       0.58   \n",
       "4                 11.0                  34.0   0.9978  3.51       0.56   \n",
       "\n",
       "   alcohol  quality  \n",
       "0      9.4        5  \n",
       "1      9.8        5  \n",
       "2      9.8        5  \n",
       "3      9.8        6  \n",
       "4      9.4        5  "
      ]
     },
     "execution_count": 87,
     "metadata": {},
     "output_type": "execute_result"
    }
   ],
   "source": [
    "# Read in data from CSV\n",
    "df = pd.read_csv('winequality-red.csv', sep=';')\n",
    "# Remove any NA values in the data that can mess up our analysis\n",
    "df = df.dropna()\n",
    "df.head()"
   ]
  },
  {
   "cell_type": "markdown",
   "metadata": {
    "id": "--pxbRncosSX"
   },
   "source": [
    "We also now want to remove any outliers that could mess with our model.  An outlier is defined as anything greater than Q3 + 1.5(IQR) or anything lower than Q1 - 1.5(IQR), where Q1 represents the first quartile (25th percentile), Q3 represents the third quartile (75th percentile) and IQR = Q3 - Q1."
   ]
  },
  {
   "cell_type": "code",
   "execution_count": 88,
   "metadata": {
    "colab": {
     "base_uri": "https://localhost:8080/"
    },
    "id": "gA2uR5IBorSb",
    "outputId": "bd79791e-c1d4-42a1-9e6b-6ac166b13343"
   },
   "outputs": [
    {
     "name": "stdout",
     "output_type": "stream",
     "text": [
      "Number of outliers removed:  28\n"
     ]
    }
   ],
   "source": [
    "# Calculate the 25th and 75th percentile of the column\n",
    "Q1, Q3 = np.percentile(df['quality'], q=25), np.percentile(df['quality'], q=75) \n",
    "\n",
    "# Select and Calculate outlier range using interquartile range\n",
    "outlier_range = 1.5 * (Q3 - Q1)\n",
    "\n",
    "# Outliers in data\n",
    "num_data = df[((df['quality'] < (Q1 - outlier_range)) | (df['quality'] > (Q3 + outlier_range)))].shape[0]\n",
    "\n",
    "# Remove outliers\n",
    "df = df[df['quality'] >= (Q1 - outlier_range)].reset_index(drop=True)\n",
    "df = df[df['quality'] <= (Q3 + outlier_range)].reset_index(drop=True)\n",
    "\n",
    "# Display number of outliers\n",
    "print(\"Number of outliers removed: \", num_data)"
   ]
  },
  {
   "cell_type": "code",
   "execution_count": 89,
   "metadata": {
    "colab": {
     "base_uri": "https://localhost:8080/",
     "height": 430
    },
    "id": "1oqYoRm6qZu4",
    "outputId": "9ef07e73-20fd-4684-9da4-e97a885cc857"
   },
   "outputs": [
    {
     "data": {
      "image/png": "[encoded data removed]",
      "text/plain": [
       "<Figure size 640x480 with 1 Axes>"
      ]
     },
     "metadata": {},
     "output_type": "display_data"
    }
   ],
   "source": [
    "df['quality'].hist(bins=10)\n",
    "plt.show()"
   ]
  },
  {
   "cell_type": "markdown",
   "metadata": {
    "id": "GfRr5J8TuFUe"
   },
   "source": [
    "A large majority of the data has a quality rating of either 5 or 6 with smaller proportions with a rating of 4 and 7.  In our classification, we will consider a wine with a quality less than or equal to 5 as a lower quality wine, and anything with a quality of 6 or above to be a higher quality wine."
   ]
  },
  {
   "cell_type": "markdown",
   "metadata": {
    "id": "lMkYen_2hXIv"
   },
   "source": [
    "This data appears to mostly be on different scales, so it will be helpful for us to standardize the data before doing any kind of regression analysis.  We will standardize using the formula:\n",
    "\n",
    "(actual - mean) / standard deviation\n",
    "\n",
    "This standardization formula will yield data as the number of standard deviations they are away from the mean.  Negative values indicate a lower value than the mean, and positive values indicate a higher value than the mean."
   ]
  },
  {
   "cell_type": "code",
   "execution_count": 90,
   "metadata": {
    "colab": {
     "base_uri": "https://localhost:8080/",
     "height": 268
    },
    "id": "Frpwzl9Iehy6",
    "outputId": "ca11869f-ee93-4409-cc1a-225e94c7c6b5"
   },
   "outputs": [
    {
     "data": {
      "text/html": [
       "\n",
       "  <div id=\"df-5fc29381-039a-4e89-af6a-83a998ec11e7\">\n",
       "    <div class=\"colab-df-container\">\n",
       "      <div>\n",
       "<style scoped>\n",
       "    .dataframe tbody tr th:only-of-type {\n",
       "        vertical-align: middle;\n",
       "    }\n",
       "\n",
       "    .dataframe tbody tr th {\n",
       "        vertical-align: top;\n",
       "    }\n",
       "\n",
       "    .dataframe thead th {\n",
       "        text-align: right;\n",
       "    }\n",
       "</style>\n",
       "<table border=\"1\" class=\"dataframe\">\n",
       "  <thead>\n",
       "    <tr style=\"text-align: right;\">\n",
       "      <th></th>\n",
       "      <th>fixed acidity</th>\n",
       "      <th>volatile acidity</th>\n",
       "      <th>citric acid</th>\n",
       "      <th>residual sugar</th>\n",
       "      <th>chlorides</th>\n",
       "      <th>free sulfur dioxide</th>\n",
       "      <th>total sulfur dioxide</th>\n",
       "      <th>density</th>\n",
       "      <th>pH</th>\n",
       "      <th>sulphates</th>\n",
       "      <th>alcohol</th>\n",
       "      <th>quality</th>\n",
       "    </tr>\n",
       "  </thead>\n",
       "  <tbody>\n",
       "    <tr>\n",
       "      <th>0</th>\n",
       "      <td>-0.527578</td>\n",
       "      <td>0.986540</td>\n",
       "      <td>-1.393572</td>\n",
       "      <td>-0.451650</td>\n",
       "      <td>-0.243473</td>\n",
       "      <td>-0.472236</td>\n",
       "      <td>-0.386710</td>\n",
       "      <td>0.555203</td>\n",
       "      <td>1.294004</td>\n",
       "      <td>-0.573976</td>\n",
       "      <td>-0.959018</td>\n",
       "      <td>5</td>\n",
       "    </tr>\n",
       "    <tr>\n",
       "      <th>1</th>\n",
       "      <td>-0.297333</td>\n",
       "      <td>2.011501</td>\n",
       "      <td>-1.393572</td>\n",
       "      <td>0.044088</td>\n",
       "      <td>0.223867</td>\n",
       "      <td>0.867248</td>\n",
       "      <td>0.613849</td>\n",
       "      <td>0.021511</td>\n",
       "      <td>-0.722420</td>\n",
       "      <td>0.132790</td>\n",
       "      <td>-0.578006</td>\n",
       "      <td>5</td>\n",
       "    </tr>\n",
       "    <tr>\n",
       "      <th>2</th>\n",
       "      <td>-0.297333</td>\n",
       "      <td>1.328194</td>\n",
       "      <td>-1.187297</td>\n",
       "      <td>-0.168371</td>\n",
       "      <td>0.096410</td>\n",
       "      <td>-0.089526</td>\n",
       "      <td>0.219689</td>\n",
       "      <td>0.128249</td>\n",
       "      <td>-0.332144</td>\n",
       "      <td>-0.043901</td>\n",
       "      <td>-0.578006</td>\n",
       "      <td>5</td>\n",
       "    </tr>\n",
       "    <tr>\n",
       "      <th>3</th>\n",
       "      <td>1.659752</td>\n",
       "      <td>-1.405035</td>\n",
       "      <td>1.494280</td>\n",
       "      <td>-0.451650</td>\n",
       "      <td>-0.264716</td>\n",
       "      <td>0.101829</td>\n",
       "      <td>0.401609</td>\n",
       "      <td>0.661942</td>\n",
       "      <td>-0.982603</td>\n",
       "      <td>-0.456181</td>\n",
       "      <td>-0.578006</td>\n",
       "      <td>6</td>\n",
       "    </tr>\n",
       "    <tr>\n",
       "      <th>4</th>\n",
       "      <td>-0.527578</td>\n",
       "      <td>0.986540</td>\n",
       "      <td>-1.393572</td>\n",
       "      <td>-0.451650</td>\n",
       "      <td>-0.243473</td>\n",
       "      <td>-0.472236</td>\n",
       "      <td>-0.386710</td>\n",
       "      <td>0.555203</td>\n",
       "      <td>1.294004</td>\n",
       "      <td>-0.573976</td>\n",
       "      <td>-0.959018</td>\n",
       "      <td>5</td>\n",
       "    </tr>\n",
       "  </tbody>\n",
       "</table>\n",
       "</div>\n",
       "      <button class=\"colab-df-convert\" onclick=\"convertToInteractive('df-5fc29381-039a-4e89-af6a-83a998ec11e7')\"\n",
       "              title=\"Convert this dataframe to an interactive table.\"\n",
       "              style=\"display:none;\">\n",
       "        \n",
       "  <svg xmlns=\"http://www.w3.org/2000/svg\" height=\"24px\"viewBox=\"0 0 24 24\"\n",
       "       width=\"24px\">\n",
       "    <path d=\"M0 0h24v24H0V0z\" fill=\"none\"/>\n",
       "    <path d=\"M18.56 5.44l.94 2.06.94-2.06 2.06-.94-2.06-.94-.94-2.06-.94 2.06-2.06.94zm-11 1L8.5 8.5l.94-2.06 2.06-.94-2.06-.94L8.5 2.5l-.94 2.06-2.06.94zm10 10l.94 2.06.94-2.06 2.06-.94-2.06-.94-.94-2.06-.94 2.06-2.06.94z\"/><path d=\"M17.41 7.96l-1.37-1.37c-.4-.4-.92-.59-1.43-.59-.52 0-1.04.2-1.43.59L10.3 9.45l-7.72 7.72c-.78.78-.78 2.05 0 2.83L4 21.41c.39.39.9.59 1.41.59.51 0 1.02-.2 1.41-.59l7.78-7.78 2.81-2.81c.8-.78.8-2.07 0-2.86zM5.41 20L4 18.59l7.72-7.72 1.47 1.35L5.41 20z\"/>\n",
       "  </svg>\n",
       "      </button>\n",
       "      \n",
       "  <style>\n",
       "    .colab-df-container {\n",
       "      display:flex;\n",
       "      flex-wrap:wrap;\n",
       "      gap: 12px;\n",
       "    }\n",
       "\n",
       "    .colab-df-convert {\n",
       "      background-color: #E8F0FE;\n",
       "      border: none;\n",
       "      border-radius: 50%;\n",
       "      cursor: pointer;\n",
       "      display: none;\n",
       "      fill: #1967D2;\n",
       "      height: 32px;\n",
       "      padding: 0 0 0 0;\n",
       "      width: 32px;\n",
       "    }\n",
       "\n",
       "    .colab-df-convert:hover {\n",
       "      background-color: #E2EBFA;\n",
       "      box-shadow: 0px 1px 2px rgba(60, 64, 67, 0.3), 0px 1px 3px 1px rgba(60, 64, 67, 0.15);\n",
       "      fill: #174EA6;\n",
       "    }\n",
       "\n",
       "    [theme=dark] .colab-df-convert {\n",
       "      background-color: #3B4455;\n",
       "      fill: #D2E3FC;\n",
       "    }\n",
       "\n",
       "    [theme=dark] .colab-df-convert:hover {\n",
       "      background-color: #434B5C;\n",
       "      box-shadow: 0px 1px 3px 1px rgba(0, 0, 0, 0.15);\n",
       "      filter: drop-shadow(0px 1px 2px rgba(0, 0, 0, 0.3));\n",
       "      fill: #FFFFFF;\n",
       "    }\n",
       "  </style>\n",
       "\n",
       "      <script>\n",
       "        const buttonEl =\n",
       "          document.querySelector('#df-5fc29381-039a-4e89-af6a-83a998ec11e7 button.colab-df-convert');\n",
       "        buttonEl.style.display =\n",
       "          google.colab.kernel.accessAllowed ? 'block' : 'none';\n",
       "\n",
       "        async function convertToInteractive(key) {\n",
       "          const element = document.querySelector('#df-5fc29381-039a-4e89-af6a-83a998ec11e7');\n",
       "          const dataTable =\n",
       "            await google.colab.kernel.invokeFunction('convertToInteractive',\n",
       "                                                     [key], {});\n",
       "          if (!dataTable) return;\n",
       "\n",
       "          const docLinkHtml = 'Like what you see? Visit the ' +\n",
       "            '<a target=\"_blank\" href=https://colab.research.google.com/notebooks/data_table.ipynb>data table notebook</a>'\n",
       "            + ' to learn more about interactive tables.';\n",
       "          element.innerHTML = '';\n",
       "          dataTable['output_type'] = 'display_data';\n",
       "          await google.colab.output.renderOutput(dataTable, element);\n",
       "          const docLink = document.createElement('div');\n",
       "          docLink.innerHTML = docLinkHtml;\n",
       "          element.appendChild(docLink);\n",
       "        }\n",
       "      </script>\n",
       "    </div>\n",
       "  </div>\n",
       "  "
      ],
      "text/plain": [
       "   fixed acidity  volatile acidity  citric acid  residual sugar  chlorides  \\\n",
       "0      -0.527578          0.986540    -1.393572       -0.451650  -0.243473   \n",
       "1      -0.297333          2.011501    -1.393572        0.044088   0.223867   \n",
       "2      -0.297333          1.328194    -1.187297       -0.168371   0.096410   \n",
       "3       1.659752         -1.405035     1.494280       -0.451650  -0.264716   \n",
       "4      -0.527578          0.986540    -1.393572       -0.451650  -0.243473   \n",
       "\n",
       "   free sulfur dioxide  total sulfur dioxide   density        pH  sulphates  \\\n",
       "0            -0.472236             -0.386710  0.555203  1.294004  -0.573976   \n",
       "1             0.867248              0.613849  0.021511 -0.722420   0.132790   \n",
       "2            -0.089526              0.219689  0.128249 -0.332144  -0.043901   \n",
       "3             0.101829              0.401609  0.661942 -0.982603  -0.456181   \n",
       "4            -0.472236             -0.386710  0.555203  1.294004  -0.573976   \n",
       "\n",
       "    alcohol  quality  \n",
       "0 -0.959018        5  \n",
       "1 -0.578006        5  \n",
       "2 -0.578006        5  \n",
       "3 -0.578006        6  \n",
       "4 -0.959018        5  "
      ]
     },
     "execution_count": 90,
     "metadata": {},
     "output_type": "execute_result"
    }
   ],
   "source": [
    "# Create new dataframe and fill it with standardized values\n",
    "# Quality remains the same, as that is our dependent variable\n",
    "stand_df = pd.DataFrame().reindex_like(df)\n",
    "stand_df['fixed acidity'] = (df['fixed acidity'] - df['fixed acidity'].mean()) / df['fixed acidity'].std()\n",
    "stand_df['volatile acidity'] = (df['volatile acidity'] - df['volatile acidity'].mean()) / df['volatile acidity'].std()\n",
    "stand_df['citric acid'] = (df['citric acid'] - df['citric acid'].mean()) / df['citric acid'].std()\n",
    "stand_df['residual sugar'] = (df['residual sugar'] - df['residual sugar'].mean()) / df['residual sugar'].std()\n",
    "stand_df['chlorides'] = (df['chlorides'] - df['chlorides'].mean()) / df['chlorides'].std()\n",
    "stand_df['free sulfur dioxide'] = (df['free sulfur dioxide'] - df['free sulfur dioxide'].mean()) / df['free sulfur dioxide'].std()\n",
    "stand_df['total sulfur dioxide'] = (df['total sulfur dioxide'] - df['total sulfur dioxide'].mean()) / df['total sulfur dioxide'].std()\n",
    "stand_df['density'] = (df['density'] - df['density'].mean()) / df['density'].std()\n",
    "stand_df['pH'] = (df['pH'] - df['pH'].mean()) / df['pH'].std()\n",
    "stand_df['sulphates'] = (df['sulphates'] - df['sulphates'].mean()) / df['sulphates'].std()\n",
    "stand_df['alcohol'] = (df['alcohol'] - df['alcohol'].mean()) / df['alcohol'].std()\n",
    "stand_df['quality'] = df['quality']\n",
    "stand_df.head()"
   ]
  },
  {
   "cell_type": "markdown",
   "metadata": {
    "id": "XxH_pzwl0Niw"
   },
   "source": [
    "We also want to set aside some data for testing and some for training.  One of the more commonly used testing/training splits is 80% for testing and 20% for training, so that is what we will use here."
   ]
  },
  {
   "cell_type": "code",
   "execution_count": 91,
   "metadata": {
    "colab": {
     "base_uri": "https://localhost:8080/"
    },
    "id": "44hLgKLs07aW",
    "outputId": "84cb32fa-3d68-4735-8c8f-ba54354013dc"
   },
   "outputs": [
    {
     "name": "stdout",
     "output_type": "stream",
     "text": [
      "Number of Training data points:  1257\n",
      "Number of Testing data points:  314\n"
     ]
    }
   ],
   "source": [
    "train_df = stand_df.sample(frac=0.8, random_state=1)\n",
    "x_train = np.array(train_df.iloc[:, :-1])\n",
    "y_train = np.array(train_df['quality'])\n",
    "\n",
    "# Select data for testing\n",
    "data_test = stand_df.drop(train_df.index)\n",
    "x_test = np.array(data_test.iloc[:, :-1])\n",
    "y_test = np.array(data_test['quality'])\n",
    "\n",
    "# Show number of training and testing data points\n",
    "print(\"Number of Training data points: \", len(x_train))\n",
    "print(\"Number of Testing data points: \", len(x_test))"
   ]
  },
  {
   "cell_type": "markdown",
   "metadata": {
    "id": "MWNUiULhkr2B"
   },
   "source": [
    "\n",
    "\n",
    "---\n",
    "\n"
   ]
  },
  {
   "cell_type": "markdown",
   "metadata": {
    "id": "ZSsk8lLJkkbQ"
   },
   "source": [
    "## **Part 2: Exploratory Data Analysis**"
   ]
  },
  {
   "cell_type": "markdown",
   "metadata": {
    "id": "drMt3F24kpY6"
   },
   "source": [
    "In this section of the project, we are going to use visualization as well as statistical methods to determine the main characteristics of the data.  What this means in our case is that we are going to use linear regression to see if there are any data columns that are not correlated well with the quality of the wine.  These columns will be dropped and not used for further analysis since they do not correlate with quality.  We will make our regressions using the Scikit-Learn library and plot them with the Matplotlib library.  Since we are looking at the variables individually in this section, we will use the original values, not the standardized ones."
   ]
  },
  {
   "cell_type": "code",
   "execution_count": 92,
   "metadata": {
    "colab": {
     "base_uri": "https://localhost:8080/"
    },
    "id": "FHS45p51r7GH",
    "outputId": "655090d4-1c77-4d91-fd8f-a577f07accc7"
   },
   "outputs": [
    {
     "name": "stdout",
     "output_type": "stream",
     "text": [
      "{'fixed acidity': 0.0, 'volatile acidity': 0.0, 'citric acid': 0.0, 'residual sugar': 0.0, 'chlorides': 0.0, 'free sulfur dioxide': 0.0, 'total sulfur dioxide': 0.0, 'density': 0.0, 'pH': 0.0, 'sulphates': 0.0, 'alcohol': 0.0}\n"
     ]
    }
   ],
   "source": [
    "# dictionary to keep track of R^2 value for each column\n",
    "cols = df.columns\n",
    "cols = cols.drop('quality')\n",
    "zeros = np.zeros(11)\n",
    "r_sq_dict = {cols[i]:zeros[i] for i in range(len(zeros))}\n",
    "print(r_sq_dict)"
   ]
  },
  {
   "cell_type": "code",
   "execution_count": 93,
   "metadata": {
    "id": "3-v5lIREndvZ"
   },
   "outputs": [],
   "source": [
    "def lin_regress(xcol):\n",
    "  x = train_df[xcol].to_numpy().reshape(-1,1)\n",
    "  y = train_df['quality']\n",
    "  model = linear_model.LinearRegression().fit(x, y)\n",
    "  # Coefficient of determination (r^2)\n",
    "  r_sq = model.score(x, y)\n",
    "  r_sq_dict[xcol] = r_sq\n",
    "  print('R^2: ', r_sq)\n",
    "\n",
    "  #predicted y values\n",
    "  y_pred = model.predict(x)\n",
    "\n",
    "  plt.scatter(x, y)\n",
    "  plt.plot(x, y_pred, color='k')\n",
    "  plt.xlabel(xcol)\n",
    "  plt.ylabel(\"Quality\")\n",
    "  plt.title('%s vs Quality' % xcol)\n",
    "  plt.show()\n",
    "\n",
    "  print(\"Coefficient: \", model.coef_, \"\\nIntercept: \", model.intercept_)\n"
   ]
  },
  {
   "cell_type": "code",
   "execution_count": 94,
   "metadata": {
    "colab": {
     "base_uri": "https://localhost:8080/",
     "height": 526
    },
    "id": "13VBzuf7mesJ",
    "outputId": "ce7802db-3787-47e6-a758-e43c2198de95"
   },
   "outputs": [
    {
     "name": "stdout",
     "output_type": "stream",
     "text": [
      "R^2:  0.018129973592926896\n"
     ]
    },
    {
     "data": {
      "image/png": "[encoded data removed]",
      "text/plain": [
       "<Figure size 640x480 with 1 Axes>"
      ]
     },
     "metadata": {},
     "output_type": "display_data"
    },
    {
     "name": "stdout",
     "output_type": "stream",
     "text": [
      "Coefficient:  [0.10097736] \n",
      "Intercept:  5.6271487311894095\n"
     ]
    }
   ],
   "source": [
    "# For fixed acidity\n",
    "lin_regress('fixed acidity')"
   ]
  },
  {
   "cell_type": "code",
   "execution_count": 95,
   "metadata": {
    "colab": {
     "base_uri": "https://localhost:8080/",
     "height": 526
    },
    "id": "horzf5s0nLZD",
    "outputId": "a7331d59-900d-480a-c241-9ac640e722aa"
   },
   "outputs": [
    {
     "name": "stdout",
     "output_type": "stream",
     "text": [
      "R^2:  0.14086709271190212\n"
     ]
    },
    {
     "data": {
      "image/png": "[encoded data removed]",
      "text/plain": [
       "<Figure size 640x480 with 1 Axes>"
      ]
     },
     "metadata": {},
     "output_type": "display_data"
    },
    {
     "name": "stdout",
     "output_type": "stream",
     "text": [
      "Coefficient:  [-0.28316643] \n",
      "Intercept:  5.625169047191926\n"
     ]
    }
   ],
   "source": [
    "# For volatile acidity\n",
    "lin_regress('volatile acidity')"
   ]
  },
  {
   "cell_type": "code",
   "execution_count": 96,
   "metadata": {
    "colab": {
     "base_uri": "https://localhost:8080/",
     "height": 526
    },
    "id": "hAd8iXW5nZ8f",
    "outputId": "5c517a81-a9e2-4378-a7fb-eb35ea6e5c0a"
   },
   "outputs": [
    {
     "name": "stdout",
     "output_type": "stream",
     "text": [
      "R^2:  0.04081728012236885\n"
     ]
    },
    {
     "data": {
      "image/png": "[encoded data removed]",
      "text/plain": [
       "<Figure size 640x480 with 1 Axes>"
      ]
     },
     "metadata": {},
     "output_type": "display_data"
    },
    {
     "name": "stdout",
     "output_type": "stream",
     "text": [
      "Coefficient:  [0.15207635] \n",
      "Intercept:  5.62765754209473\n"
     ]
    }
   ],
   "source": [
    "# For citric acid\n",
    "lin_regress('citric acid')"
   ]
  },
  {
   "cell_type": "code",
   "execution_count": 97,
   "metadata": {
    "colab": {
     "base_uri": "https://localhost:8080/",
     "height": 526
    },
    "id": "bPdmit3RpcSR",
    "outputId": "f23a1cba-4f3f-43dc-fca4-aca4d961b3f4"
   },
   "outputs": [
    {
     "name": "stdout",
     "output_type": "stream",
     "text": [
      "R^2:  0.00012342781638219336\n"
     ]
    },
    {
     "data": {
      "image/png": "[encoded data removed]",
      "text/plain": [
       "<Figure size 640x480 with 1 Axes>"
      ]
     },
     "metadata": {},
     "output_type": "display_data"
    },
    {
     "name": "stdout",
     "output_type": "stream",
     "text": [
      "Coefficient:  [0.00842956] \n",
      "Intercept:  5.627648383496789\n"
     ]
    }
   ],
   "source": [
    "lin_regress('residual sugar')"
   ]
  },
  {
   "cell_type": "code",
   "execution_count": 98,
   "metadata": {
    "colab": {
     "base_uri": "https://localhost:8080/",
     "height": 526
    },
    "id": "Uev5Kacspgzd",
    "outputId": "ddd17169-901b-484a-ded6-2e14c9ae6772"
   },
   "outputs": [
    {
     "name": "stdout",
     "output_type": "stream",
     "text": [
      "R^2:  0.014187406485608789\n"
     ]
    },
    {
     "data": {
      "image/png": "[encoded data removed]",
      "text/plain": [
       "<Figure size 640x480 with 1 Axes>"
      ]
     },
     "metadata": {},
     "output_type": "display_data"
    },
    {
     "name": "stdout",
     "output_type": "stream",
     "text": [
      "Coefficient:  [-0.08493422] \n",
      "Intercept:  5.628655127433259\n"
     ]
    }
   ],
   "source": [
    "lin_regress('chlorides')"
   ]
  },
  {
   "cell_type": "code",
   "execution_count": 99,
   "metadata": {
    "colab": {
     "base_uri": "https://localhost:8080/",
     "height": 526
    },
    "id": "NMOhKo9zpyrw",
    "outputId": "cf847634-f641-4262-c047-6cda7e8eba37"
   },
   "outputs": [
    {
     "name": "stdout",
     "output_type": "stream",
     "text": [
      "R^2:  0.0027288797787569097\n"
     ]
    },
    {
     "data": {
      "image/png": "[encoded data removed]",
      "text/plain": [
       "<Figure size 640x480 with 1 Axes>"
      ]
     },
     "metadata": {},
     "output_type": "display_data"
    },
    {
     "name": "stdout",
     "output_type": "stream",
     "text": [
      "Coefficient:  [-0.03946206] \n",
      "Intercept:  5.627552240075563\n"
     ]
    }
   ],
   "source": [
    "lin_regress('free sulfur dioxide')"
   ]
  },
  {
   "cell_type": "code",
   "execution_count": 100,
   "metadata": {
    "colab": {
     "base_uri": "https://localhost:8080/",
     "height": 526
    },
    "id": "PvAcmhqmp3TO",
    "outputId": "efc768b2-add3-4930-d27e-ec61132622eb"
   },
   "outputs": [
    {
     "name": "stdout",
     "output_type": "stream",
     "text": [
      "R^2:  0.039169848828769505\n"
     ]
    },
    {
     "data": {
      "image/png": "[encoded data removed]",
      "text/plain": [
       "<Figure size 640x480 with 1 Axes>"
      ]
     },
     "metadata": {},
     "output_type": "display_data"
    },
    {
     "name": "stdout",
     "output_type": "stream",
     "text": [
      "Coefficient:  [-0.14740916] \n",
      "Intercept:  5.628504002992089\n"
     ]
    }
   ],
   "source": [
    "lin_regress('total sulfur dioxide')"
   ]
  },
  {
   "cell_type": "code",
   "execution_count": 101,
   "metadata": {
    "colab": {
     "base_uri": "https://localhost:8080/",
     "height": 526
    },
    "id": "oGJT1X4uqM2E",
    "outputId": "28209b73-892e-42d0-acb9-e74fa883979c"
   },
   "outputs": [
    {
     "name": "stdout",
     "output_type": "stream",
     "text": [
      "R^2:  0.02543478156154866\n"
     ]
    },
    {
     "data": {
      "image/png": "[encoded data removed]",
      "text/plain": [
       "<Figure size 640x480 with 1 Axes>"
      ]
     },
     "metadata": {},
     "output_type": "display_data"
    },
    {
     "name": "stdout",
     "output_type": "stream",
     "text": [
      "Coefficient:  [-0.11777523] \n",
      "Intercept:  5.6282352175103565\n"
     ]
    }
   ],
   "source": [
    "lin_regress('density')"
   ]
  },
  {
   "cell_type": "code",
   "execution_count": 102,
   "metadata": {
    "colab": {
     "base_uri": "https://localhost:8080/",
     "height": 526
    },
    "id": "2GcagQZWqTpS",
    "outputId": "b5794f6e-f644-4f33-d763-dcaeee9753d4"
   },
   "outputs": [
    {
     "name": "stdout",
     "output_type": "stream",
     "text": [
      "R^2:  0.0012908273883955879\n"
     ]
    },
    {
     "data": {
      "image/png": "[encoded data removed]",
      "text/plain": [
       "<Figure size 640x480 with 1 Axes>"
      ]
     },
     "metadata": {},
     "output_type": "display_data"
    },
    {
     "name": "stdout",
     "output_type": "stream",
     "text": [
      "Coefficient:  [-0.02728653] \n",
      "Intercept:  5.627554183483021\n"
     ]
    }
   ],
   "source": [
    "lin_regress('pH')"
   ]
  },
  {
   "cell_type": "code",
   "execution_count": 103,
   "metadata": {
    "colab": {
     "base_uri": "https://localhost:8080/",
     "height": 526
    },
    "id": "1LIW4lUbqelS",
    "outputId": "2fe33859-7496-446d-9226-2b65d28d4412"
   },
   "outputs": [
    {
     "name": "stdout",
     "output_type": "stream",
     "text": [
      "R^2:  0.050016321120787466\n"
     ]
    },
    {
     "data": {
      "image/png": "[encoded data removed]",
      "text/plain": [
       "<Figure size 640x480 with 1 Axes>"
      ]
     },
     "metadata": {},
     "output_type": "display_data"
    },
    {
     "name": "stdout",
     "output_type": "stream",
     "text": [
      "Coefficient:  [0.16568704] \n",
      "Intercept:  5.62568939481449\n"
     ]
    }
   ],
   "source": [
    "lin_regress('sulphates')"
   ]
  },
  {
   "cell_type": "code",
   "execution_count": 104,
   "metadata": {
    "colab": {
     "base_uri": "https://localhost:8080/",
     "height": 526
    },
    "id": "2wDXegM3o9ot",
    "outputId": "430e4e76-9754-4264-a64e-08001ce251ea"
   },
   "outputs": [
    {
     "name": "stdout",
     "output_type": "stream",
     "text": [
      "R^2:  0.2191981460989193\n"
     ]
    },
    {
     "data": {
      "image/png": "[encoded data removed]",
      "text/plain": [
       "<Figure size 640x480 with 1 Axes>"
      ]
     },
     "metadata": {},
     "output_type": "display_data"
    },
    {
     "name": "stdout",
     "output_type": "stream",
     "text": [
      "Coefficient:  [0.34889149] \n",
      "Intercept:  5.624369960107356\n"
     ]
    }
   ],
   "source": [
    "lin_regress('alcohol')"
   ]
  },
  {
   "cell_type": "code",
   "execution_count": 105,
   "metadata": {
    "colab": {
     "base_uri": "https://localhost:8080/"
    },
    "id": "B6PNV1S-pYnv",
    "outputId": "5510e1aa-6145-47ff-937c-6ad7923e46bc"
   },
   "outputs": [
    {
     "data": {
      "text/plain": [
       "fixed acidity           0.018130\n",
       "volatile acidity        0.140867\n",
       "citric acid             0.040817\n",
       "residual sugar          0.000123\n",
       "chlorides               0.014187\n",
       "free sulfur dioxide     0.002729\n",
       "total sulfur dioxide    0.039170\n",
       "density                 0.025435\n",
       "pH                      0.001291\n",
       "sulphates               0.050016\n",
       "alcohol                 0.219198\n",
       "dtype: float64"
      ]
     },
     "execution_count": 105,
     "metadata": {},
     "output_type": "execute_result"
    }
   ],
   "source": [
    "r_sq_ser = pd.Series(r_sq_dict)\n",
    "r_sq_ser"
   ]
  },
  {
   "cell_type": "code",
   "execution_count": 106,
   "metadata": {
    "colab": {
     "base_uri": "https://localhost:8080/"
    },
    "id": "9x_ccKz5pyOW",
    "outputId": "00183f3c-c3ac-41af-cf4b-04526d874976"
   },
   "outputs": [
    {
     "data": {
      "text/plain": [
       "volatile acidity    0.140867\n",
       "sulphates           0.050016\n",
       "alcohol             0.219198\n",
       "dtype: float64"
      ]
     },
     "execution_count": 106,
     "metadata": {},
     "output_type": "execute_result"
    }
   ],
   "source": [
    "r_sq_ser[r_sq_ser > 0.05]"
   ]
  },
  {
   "cell_type": "markdown",
   "metadata": {
    "id": "PiytJ-kQtkKb"
   },
   "source": [
    "As seen from the R^2 values above, none of these factors appear to have a strong linear relationship with quality.  However, there are some values that are far too low.  Setting the minimum R^2 value to be included in the model at 0.05, we are left with **volatile acidity, sulphates, and alcohol** as the independent variables for us to consider.  \n",
    "\n",
    "---\n",
    "\n"
   ]
  },
  {
   "cell_type": "markdown",
   "metadata": {
    "id": "c-58_nsNvkDr"
   },
   "source": [
    "## **Part 3: Hypothesis Testing and Machine Learning**\n",
    "\n",
    "\n"
   ]
  },
  {
   "cell_type": "markdown",
   "metadata": {
    "id": "L2YyXiJ9GOg3"
   },
   "source": [
    "In this portion of the project, we will focus on the creation of our k-Nearest Neighbors model.  This model creates a vector for each observation alongside its classification.  When a new datapoint is considered, the k observations that are closest to the new one are used in order to assign a classification to the new point.  In order to execute this algorithm, we need three things, our dataset, a distance metric, and a value for k.  The most common distance metric used in this algorithm is Euclidean distance ![Screenshot 2023-05-08 at 3.21.14 PM.png](data:image/png;base64,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)"
   ]
  },
  {
   "cell_type": "markdown",
   "metadata": {
    "id": "1sngLMQW2T5T"
   },
   "source": [
    "We also need to change our quality column so that it is categorical.  All lower quality wines (quality <= 5) will be labeled with 0, and all higher quality wines (quality >= 6) will be labeled with 1.  We will also do the same changes to the testing data."
   ]
  },
  {
   "cell_type": "code",
   "execution_count": 107,
   "metadata": {
    "colab": {
     "base_uri": "https://localhost:8080/",
     "height": 206
    },
    "id": "G6Hubb2gHnSi",
    "outputId": "8f857fb3-e293-43ec-c18d-5d10514cd5b3"
   },
   "outputs": [
    {
     "data": {
      "text/html": [
       "\n",
       "  <div id=\"df-cc202a28-ec8f-48cd-879f-dce6613720e6\">\n",
       "    <div class=\"colab-df-container\">\n",
       "      <div>\n",
       "<style scoped>\n",
       "    .dataframe tbody tr th:only-of-type {\n",
       "        vertical-align: middle;\n",
       "    }\n",
       "\n",
       "    .dataframe tbody tr th {\n",
       "        vertical-align: top;\n",
       "    }\n",
       "\n",
       "    .dataframe thead th {\n",
       "        text-align: right;\n",
       "    }\n",
       "</style>\n",
       "<table border=\"1\" class=\"dataframe\">\n",
       "  <thead>\n",
       "    <tr style=\"text-align: right;\">\n",
       "      <th></th>\n",
       "      <th>volatile acidity</th>\n",
       "      <th>sulphates</th>\n",
       "      <th>alcohol</th>\n",
       "      <th>quality</th>\n",
       "    </tr>\n",
       "  </thead>\n",
       "  <tbody>\n",
       "    <tr>\n",
       "      <th>0</th>\n",
       "      <td>-0.721728</td>\n",
       "      <td>-0.102798</td>\n",
       "      <td>-1.149523</td>\n",
       "      <td>5</td>\n",
       "    </tr>\n",
       "    <tr>\n",
       "      <th>1</th>\n",
       "      <td>0.531002</td>\n",
       "      <td>0.014996</td>\n",
       "      <td>-0.578006</td>\n",
       "      <td>5</td>\n",
       "    </tr>\n",
       "    <tr>\n",
       "      <th>2</th>\n",
       "      <td>-0.437017</td>\n",
       "      <td>-0.515078</td>\n",
       "      <td>-0.673259</td>\n",
       "      <td>5</td>\n",
       "    </tr>\n",
       "    <tr>\n",
       "      <th>3</th>\n",
       "      <td>-0.437017</td>\n",
       "      <td>-0.220593</td>\n",
       "      <td>-0.863765</td>\n",
       "      <td>5</td>\n",
       "    </tr>\n",
       "    <tr>\n",
       "      <th>4</th>\n",
       "      <td>1.328194</td>\n",
       "      <td>-0.338387</td>\n",
       "      <td>1.041295</td>\n",
       "      <td>6</td>\n",
       "    </tr>\n",
       "  </tbody>\n",
       "</table>\n",
       "</div>\n",
       "      <button class=\"colab-df-convert\" onclick=\"convertToInteractive('df-cc202a28-ec8f-48cd-879f-dce6613720e6')\"\n",
       "              title=\"Convert this dataframe to an interactive table.\"\n",
       "              style=\"display:none;\">\n",
       "        \n",
       "  <svg xmlns=\"http://www.w3.org/2000/svg\" height=\"24px\"viewBox=\"0 0 24 24\"\n",
       "       width=\"24px\">\n",
       "    <path d=\"M0 0h24v24H0V0z\" fill=\"none\"/>\n",
       "    <path d=\"M18.56 5.44l.94 2.06.94-2.06 2.06-.94-2.06-.94-.94-2.06-.94 2.06-2.06.94zm-11 1L8.5 8.5l.94-2.06 2.06-.94-2.06-.94L8.5 2.5l-.94 2.06-2.06.94zm10 10l.94 2.06.94-2.06 2.06-.94-2.06-.94-.94-2.06-.94 2.06-2.06.94z\"/><path d=\"M17.41 7.96l-1.37-1.37c-.4-.4-.92-.59-1.43-.59-.52 0-1.04.2-1.43.59L10.3 9.45l-7.72 7.72c-.78.78-.78 2.05 0 2.83L4 21.41c.39.39.9.59 1.41.59.51 0 1.02-.2 1.41-.59l7.78-7.78 2.81-2.81c.8-.78.8-2.07 0-2.86zM5.41 20L4 18.59l7.72-7.72 1.47 1.35L5.41 20z\"/>\n",
       "  </svg>\n",
       "      </button>\n",
       "      \n",
       "  <style>\n",
       "    .colab-df-container {\n",
       "      display:flex;\n",
       "      flex-wrap:wrap;\n",
       "      gap: 12px;\n",
       "    }\n",
       "\n",
       "    .colab-df-convert {\n",
       "      background-color: #E8F0FE;\n",
       "      border: none;\n",
       "      border-radius: 50%;\n",
       "      cursor: pointer;\n",
       "      display: none;\n",
       "      fill: #1967D2;\n",
       "      height: 32px;\n",
       "      padding: 0 0 0 0;\n",
       "      width: 32px;\n",
       "    }\n",
       "\n",
       "    .colab-df-convert:hover {\n",
       "      background-color: #E2EBFA;\n",
       "      box-shadow: 0px 1px 2px rgba(60, 64, 67, 0.3), 0px 1px 3px 1px rgba(60, 64, 67, 0.15);\n",
       "      fill: #174EA6;\n",
       "    }\n",
       "\n",
       "    [theme=dark] .colab-df-convert {\n",
       "      background-color: #3B4455;\n",
       "      fill: #D2E3FC;\n",
       "    }\n",
       "\n",
       "    [theme=dark] .colab-df-convert:hover {\n",
       "      background-color: #434B5C;\n",
       "      box-shadow: 0px 1px 3px 1px rgba(0, 0, 0, 0.15);\n",
       "      filter: drop-shadow(0px 1px 2px rgba(0, 0, 0, 0.3));\n",
       "      fill: #FFFFFF;\n",
       "    }\n",
       "  </style>\n",
       "\n",
       "      <script>\n",
       "        const buttonEl =\n",
       "          document.querySelector('#df-cc202a28-ec8f-48cd-879f-dce6613720e6 button.colab-df-convert');\n",
       "        buttonEl.style.display =\n",
       "          google.colab.kernel.accessAllowed ? 'block' : 'none';\n",
       "\n",
       "        async function convertToInteractive(key) {\n",
       "          const element = document.querySelector('#df-cc202a28-ec8f-48cd-879f-dce6613720e6');\n",
       "          const dataTable =\n",
       "            await google.colab.kernel.invokeFunction('convertToInteractive',\n",
       "                                                     [key], {});\n",
       "          if (!dataTable) return;\n",
       "\n",
       "          const docLinkHtml = 'Like what you see? Visit the ' +\n",
       "            '<a target=\"_blank\" href=https://colab.research.google.com/notebooks/data_table.ipynb>data table notebook</a>'\n",
       "            + ' to learn more about interactive tables.';\n",
       "          element.innerHTML = '';\n",
       "          dataTable['output_type'] = 'display_data';\n",
       "          await google.colab.output.renderOutput(dataTable, element);\n",
       "          const docLink = document.createElement('div');\n",
       "          docLink.innerHTML = docLinkHtml;\n",
       "          element.appendChild(docLink);\n",
       "        }\n",
       "      </script>\n",
       "    </div>\n",
       "  </div>\n",
       "  "
      ],
      "text/plain": [
       "   volatile acidity  sulphates   alcohol  quality\n",
       "0         -0.721728  -0.102798 -1.149523        5\n",
       "1          0.531002   0.014996 -0.578006        5\n",
       "2         -0.437017  -0.515078 -0.673259        5\n",
       "3         -0.437017  -0.220593 -0.863765        5\n",
       "4          1.328194  -0.338387  1.041295        6"
      ]
     },
     "execution_count": 107,
     "metadata": {},
     "output_type": "execute_result"
    }
   ],
   "source": [
    "train_df = train_df.drop(['fixed acidity', 'citric acid', 'residual sugar', 'chlorides', 'free sulfur dioxide', 'total sulfur dioxide',\n",
    "                        'density', 'pH'], axis=1).reset_index(drop=True)\n",
    "train_df.head()"
   ]
  },
  {
   "cell_type": "code",
   "execution_count": 108,
   "metadata": {
    "colab": {
     "base_uri": "https://localhost:8080/",
     "height": 206
    },
    "id": "9qktc_om3i9h",
    "outputId": "bd902cad-9d03-42d4-bce6-cf5559276458"
   },
   "outputs": [
    {
     "data": {
      "text/html": [
       "\n",
       "  <div id=\"df-c42b79fa-f7ab-42e6-916c-c1d1346bc94e\">\n",
       "    <div class=\"colab-df-container\">\n",
       "      <div>\n",
       "<style scoped>\n",
       "    .dataframe tbody tr th:only-of-type {\n",
       "        vertical-align: middle;\n",
       "    }\n",
       "\n",
       "    .dataframe tbody tr th {\n",
       "        vertical-align: top;\n",
       "    }\n",
       "\n",
       "    .dataframe thead th {\n",
       "        text-align: right;\n",
       "    }\n",
       "</style>\n",
       "<table border=\"1\" class=\"dataframe\">\n",
       "  <thead>\n",
       "    <tr style=\"text-align: right;\">\n",
       "      <th></th>\n",
       "      <th>volatile acidity</th>\n",
       "      <th>sulphates</th>\n",
       "      <th>alcohol</th>\n",
       "      <th>quality</th>\n",
       "    </tr>\n",
       "  </thead>\n",
       "  <tbody>\n",
       "    <tr>\n",
       "      <th>0</th>\n",
       "      <td>-0.721728</td>\n",
       "      <td>-0.102798</td>\n",
       "      <td>-1.149523</td>\n",
       "      <td>0</td>\n",
       "    </tr>\n",
       "    <tr>\n",
       "      <th>1</th>\n",
       "      <td>0.531002</td>\n",
       "      <td>0.014996</td>\n",
       "      <td>-0.578006</td>\n",
       "      <td>0</td>\n",
       "    </tr>\n",
       "    <tr>\n",
       "      <th>2</th>\n",
       "      <td>-0.437017</td>\n",
       "      <td>-0.515078</td>\n",
       "      <td>-0.673259</td>\n",
       "      <td>0</td>\n",
       "    </tr>\n",
       "    <tr>\n",
       "      <th>3</th>\n",
       "      <td>-0.437017</td>\n",
       "      <td>-0.220593</td>\n",
       "      <td>-0.863765</td>\n",
       "      <td>0</td>\n",
       "    </tr>\n",
       "    <tr>\n",
       "      <th>4</th>\n",
       "      <td>1.328194</td>\n",
       "      <td>-0.338387</td>\n",
       "      <td>1.041295</td>\n",
       "      <td>1</td>\n",
       "    </tr>\n",
       "  </tbody>\n",
       "</table>\n",
       "</div>\n",
       "      <button class=\"colab-df-convert\" onclick=\"convertToInteractive('df-c42b79fa-f7ab-42e6-916c-c1d1346bc94e')\"\n",
       "              title=\"Convert this dataframe to an interactive table.\"\n",
       "              style=\"display:none;\">\n",
       "        \n",
       "  <svg xmlns=\"http://www.w3.org/2000/svg\" height=\"24px\"viewBox=\"0 0 24 24\"\n",
       "       width=\"24px\">\n",
       "    <path d=\"M0 0h24v24H0V0z\" fill=\"none\"/>\n",
       "    <path d=\"M18.56 5.44l.94 2.06.94-2.06 2.06-.94-2.06-.94-.94-2.06-.94 2.06-2.06.94zm-11 1L8.5 8.5l.94-2.06 2.06-.94-2.06-.94L8.5 2.5l-.94 2.06-2.06.94zm10 10l.94 2.06.94-2.06 2.06-.94-2.06-.94-.94-2.06-.94 2.06-2.06.94z\"/><path d=\"M17.41 7.96l-1.37-1.37c-.4-.4-.92-.59-1.43-.59-.52 0-1.04.2-1.43.59L10.3 9.45l-7.72 7.72c-.78.78-.78 2.05 0 2.83L4 21.41c.39.39.9.59 1.41.59.51 0 1.02-.2 1.41-.59l7.78-7.78 2.81-2.81c.8-.78.8-2.07 0-2.86zM5.41 20L4 18.59l7.72-7.72 1.47 1.35L5.41 20z\"/>\n",
       "  </svg>\n",
       "      </button>\n",
       "      \n",
       "  <style>\n",
       "    .colab-df-container {\n",
       "      display:flex;\n",
       "      flex-wrap:wrap;\n",
       "      gap: 12px;\n",
       "    }\n",
       "\n",
       "    .colab-df-convert {\n",
       "      background-color: #E8F0FE;\n",
       "      border: none;\n",
       "      border-radius: 50%;\n",
       "      cursor: pointer;\n",
       "      display: none;\n",
       "      fill: #1967D2;\n",
       "      height: 32px;\n",
       "      padding: 0 0 0 0;\n",
       "      width: 32px;\n",
       "    }\n",
       "\n",
       "    .colab-df-convert:hover {\n",
       "      background-color: #E2EBFA;\n",
       "      box-shadow: 0px 1px 2px rgba(60, 64, 67, 0.3), 0px 1px 3px 1px rgba(60, 64, 67, 0.15);\n",
       "      fill: #174EA6;\n",
       "    }\n",
       "\n",
       "    [theme=dark] .colab-df-convert {\n",
       "      background-color: #3B4455;\n",
       "      fill: #D2E3FC;\n",
       "    }\n",
       "\n",
       "    [theme=dark] .colab-df-convert:hover {\n",
       "      background-color: #434B5C;\n",
       "      box-shadow: 0px 1px 3px 1px rgba(0, 0, 0, 0.15);\n",
       "      filter: drop-shadow(0px 1px 2px rgba(0, 0, 0, 0.3));\n",
       "      fill: #FFFFFF;\n",
       "    }\n",
       "  </style>\n",
       "\n",
       "      <script>\n",
       "        const buttonEl =\n",
       "          document.querySelector('#df-c42b79fa-f7ab-42e6-916c-c1d1346bc94e button.colab-df-convert');\n",
       "        buttonEl.style.display =\n",
       "          google.colab.kernel.accessAllowed ? 'block' : 'none';\n",
       "\n",
       "        async function convertToInteractive(key) {\n",
       "          const element = document.querySelector('#df-c42b79fa-f7ab-42e6-916c-c1d1346bc94e');\n",
       "          const dataTable =\n",
       "            await google.colab.kernel.invokeFunction('convertToInteractive',\n",
       "                                                     [key], {});\n",
       "          if (!dataTable) return;\n",
       "\n",
       "          const docLinkHtml = 'Like what you see? Visit the ' +\n",
       "            '<a target=\"_blank\" href=https://colab.research.google.com/notebooks/data_table.ipynb>data table notebook</a>'\n",
       "            + ' to learn more about interactive tables.';\n",
       "          element.innerHTML = '';\n",
       "          dataTable['output_type'] = 'display_data';\n",
       "          await google.colab.output.renderOutput(dataTable, element);\n",
       "          const docLink = document.createElement('div');\n",
       "          docLink.innerHTML = docLinkHtml;\n",
       "          element.appendChild(docLink);\n",
       "        }\n",
       "      </script>\n",
       "    </div>\n",
       "  </div>\n",
       "  "
      ],
      "text/plain": [
       "   volatile acidity  sulphates   alcohol  quality\n",
       "0         -0.721728  -0.102798 -1.149523        0\n",
       "1          0.531002   0.014996 -0.578006        0\n",
       "2         -0.437017  -0.515078 -0.673259        0\n",
       "3         -0.437017  -0.220593 -0.863765        0\n",
       "4          1.328194  -0.338387  1.041295        1"
      ]
     },
     "execution_count": 108,
     "metadata": {},
     "output_type": "execute_result"
    }
   ],
   "source": [
    "train_df['quality'] = 1 * (train_df['quality'] >= 6)\n",
    "train_df.head()"
   ]
  },
  {
   "cell_type": "code",
   "execution_count": 109,
   "metadata": {
    "colab": {
     "base_uri": "https://localhost:8080/",
     "height": 206
    },
    "id": "EHfzMgDg4Ypd",
    "outputId": "ee20726b-104f-4b43-ccbf-326c19104bb7"
   },
   "outputs": [
    {
     "data": {
      "text/html": [
       "\n",
       "  <div id=\"df-b744d959-2c2c-4b2a-a9e1-229ef1606ec0\">\n",
       "    <div class=\"colab-df-container\">\n",
       "      <div>\n",
       "<style scoped>\n",
       "    .dataframe tbody tr th:only-of-type {\n",
       "        vertical-align: middle;\n",
       "    }\n",
       "\n",
       "    .dataframe tbody tr th {\n",
       "        vertical-align: top;\n",
       "    }\n",
       "\n",
       "    .dataframe thead th {\n",
       "        text-align: right;\n",
       "    }\n",
       "</style>\n",
       "<table border=\"1\" class=\"dataframe\">\n",
       "  <thead>\n",
       "    <tr style=\"text-align: right;\">\n",
       "      <th></th>\n",
       "      <th>volatile acidity</th>\n",
       "      <th>sulphates</th>\n",
       "      <th>alcohol</th>\n",
       "      <th>quality</th>\n",
       "    </tr>\n",
       "  </thead>\n",
       "  <tbody>\n",
       "    <tr>\n",
       "      <th>0</th>\n",
       "      <td>0.531002</td>\n",
       "      <td>1.605220</td>\n",
       "      <td>-1.149523</td>\n",
       "      <td>5</td>\n",
       "    </tr>\n",
       "    <tr>\n",
       "      <th>1</th>\n",
       "      <td>-1.746689</td>\n",
       "      <td>-0.750667</td>\n",
       "      <td>-0.959018</td>\n",
       "      <td>6</td>\n",
       "    </tr>\n",
       "    <tr>\n",
       "      <th>2</th>\n",
       "      <td>-0.778670</td>\n",
       "      <td>-0.043901</td>\n",
       "      <td>-0.673259</td>\n",
       "      <td>5</td>\n",
       "    </tr>\n",
       "    <tr>\n",
       "      <th>3</th>\n",
       "      <td>-0.721728</td>\n",
       "      <td>-0.161695</td>\n",
       "      <td>-0.673259</td>\n",
       "      <td>6</td>\n",
       "    </tr>\n",
       "    <tr>\n",
       "      <th>4</th>\n",
       "      <td>-0.778670</td>\n",
       "      <td>-0.573976</td>\n",
       "      <td>-1.054270</td>\n",
       "      <td>5</td>\n",
       "    </tr>\n",
       "  </tbody>\n",
       "</table>\n",
       "</div>\n",
       "      <button class=\"colab-df-convert\" onclick=\"convertToInteractive('df-b744d959-2c2c-4b2a-a9e1-229ef1606ec0')\"\n",
       "              title=\"Convert this dataframe to an interactive table.\"\n",
       "              style=\"display:none;\">\n",
       "        \n",
       "  <svg xmlns=\"http://www.w3.org/2000/svg\" height=\"24px\"viewBox=\"0 0 24 24\"\n",
       "       width=\"24px\">\n",
       "    <path d=\"M0 0h24v24H0V0z\" fill=\"none\"/>\n",
       "    <path d=\"M18.56 5.44l.94 2.06.94-2.06 2.06-.94-2.06-.94-.94-2.06-.94 2.06-2.06.94zm-11 1L8.5 8.5l.94-2.06 2.06-.94-2.06-.94L8.5 2.5l-.94 2.06-2.06.94zm10 10l.94 2.06.94-2.06 2.06-.94-2.06-.94-.94-2.06-.94 2.06-2.06.94z\"/><path d=\"M17.41 7.96l-1.37-1.37c-.4-.4-.92-.59-1.43-.59-.52 0-1.04.2-1.43.59L10.3 9.45l-7.72 7.72c-.78.78-.78 2.05 0 2.83L4 21.41c.39.39.9.59 1.41.59.51 0 1.02-.2 1.41-.59l7.78-7.78 2.81-2.81c.8-.78.8-2.07 0-2.86zM5.41 20L4 18.59l7.72-7.72 1.47 1.35L5.41 20z\"/>\n",
       "  </svg>\n",
       "      </button>\n",
       "      \n",
       "  <style>\n",
       "    .colab-df-container {\n",
       "      display:flex;\n",
       "      flex-wrap:wrap;\n",
       "      gap: 12px;\n",
       "    }\n",
       "\n",
       "    .colab-df-convert {\n",
       "      background-color: #E8F0FE;\n",
       "      border: none;\n",
       "      border-radius: 50%;\n",
       "      cursor: pointer;\n",
       "      display: none;\n",
       "      fill: #1967D2;\n",
       "      height: 32px;\n",
       "      padding: 0 0 0 0;\n",
       "      width: 32px;\n",
       "    }\n",
       "\n",
       "    .colab-df-convert:hover {\n",
       "      background-color: #E2EBFA;\n",
       "      box-shadow: 0px 1px 2px rgba(60, 64, 67, 0.3), 0px 1px 3px 1px rgba(60, 64, 67, 0.15);\n",
       "      fill: #174EA6;\n",
       "    }\n",
       "\n",
       "    [theme=dark] .colab-df-convert {\n",
       "      background-color: #3B4455;\n",
       "      fill: #D2E3FC;\n",
       "    }\n",
       "\n",
       "    [theme=dark] .colab-df-convert:hover {\n",
       "      background-color: #434B5C;\n",
       "      box-shadow: 0px 1px 3px 1px rgba(0, 0, 0, 0.15);\n",
       "      filter: drop-shadow(0px 1px 2px rgba(0, 0, 0, 0.3));\n",
       "      fill: #FFFFFF;\n",
       "    }\n",
       "  </style>\n",
       "\n",
       "      <script>\n",
       "        const buttonEl =\n",
       "          document.querySelector('#df-b744d959-2c2c-4b2a-a9e1-229ef1606ec0 button.colab-df-convert');\n",
       "        buttonEl.style.display =\n",
       "          google.colab.kernel.accessAllowed ? 'block' : 'none';\n",
       "\n",
       "        async function convertToInteractive(key) {\n",
       "          const element = document.querySelector('#df-b744d959-2c2c-4b2a-a9e1-229ef1606ec0');\n",
       "          const dataTable =\n",
       "            await google.colab.kernel.invokeFunction('convertToInteractive',\n",
       "                                                     [key], {});\n",
       "          if (!dataTable) return;\n",
       "\n",
       "          const docLinkHtml = 'Like what you see? Visit the ' +\n",
       "            '<a target=\"_blank\" href=https://colab.research.google.com/notebooks/data_table.ipynb>data table notebook</a>'\n",
       "            + ' to learn more about interactive tables.';\n",
       "          element.innerHTML = '';\n",
       "          dataTable['output_type'] = 'display_data';\n",
       "          await google.colab.output.renderOutput(dataTable, element);\n",
       "          const docLink = document.createElement('div');\n",
       "          docLink.innerHTML = docLinkHtml;\n",
       "          element.appendChild(docLink);\n",
       "        }\n",
       "      </script>\n",
       "    </div>\n",
       "  </div>\n",
       "  "
      ],
      "text/plain": [
       "   volatile acidity  sulphates   alcohol  quality\n",
       "0          0.531002   1.605220 -1.149523        5\n",
       "1         -1.746689  -0.750667 -0.959018        6\n",
       "2         -0.778670  -0.043901 -0.673259        5\n",
       "3         -0.721728  -0.161695 -0.673259        6\n",
       "4         -0.778670  -0.573976 -1.054270        5"
      ]
     },
     "execution_count": 109,
     "metadata": {},
     "output_type": "execute_result"
    }
   ],
   "source": [
    "data_test = data_test.drop(['fixed acidity', 'citric acid', 'residual sugar', 'chlorides', 'free sulfur dioxide', 'total sulfur dioxide',\n",
    "                        'density', 'pH'], axis=1).reset_index(drop=True)\n",
    "data_test.head()"
   ]
  },
  {
   "cell_type": "code",
   "execution_count": 110,
   "metadata": {
    "colab": {
     "base_uri": "https://localhost:8080/",
     "height": 206
    },
    "id": "g0_h7hok4snS",
    "outputId": "ec0dfce6-b6ca-4e3f-dec5-8b1e94c21522"
   },
   "outputs": [
    {
     "data": {
      "text/html": [
       "\n",
       "  <div id=\"df-feb3a1c6-96c6-4a97-a90d-d262eedd92da\">\n",
       "    <div class=\"colab-df-container\">\n",
       "      <div>\n",
       "<style scoped>\n",
       "    .dataframe tbody tr th:only-of-type {\n",
       "        vertical-align: middle;\n",
       "    }\n",
       "\n",
       "    .dataframe tbody tr th {\n",
       "        vertical-align: top;\n",
       "    }\n",
       "\n",
       "    .dataframe thead th {\n",
       "        text-align: right;\n",
       "    }\n",
       "</style>\n",
       "<table border=\"1\" class=\"dataframe\">\n",
       "  <thead>\n",
       "    <tr style=\"text-align: right;\">\n",
       "      <th></th>\n",
       "      <th>volatile acidity</th>\n",
       "      <th>sulphates</th>\n",
       "      <th>alcohol</th>\n",
       "      <th>quality</th>\n",
       "    </tr>\n",
       "  </thead>\n",
       "  <tbody>\n",
       "    <tr>\n",
       "      <th>0</th>\n",
       "      <td>0.531002</td>\n",
       "      <td>1.605220</td>\n",
       "      <td>-1.149523</td>\n",
       "      <td>0</td>\n",
       "    </tr>\n",
       "    <tr>\n",
       "      <th>1</th>\n",
       "      <td>-1.746689</td>\n",
       "      <td>-0.750667</td>\n",
       "      <td>-0.959018</td>\n",
       "      <td>1</td>\n",
       "    </tr>\n",
       "    <tr>\n",
       "      <th>2</th>\n",
       "      <td>-0.778670</td>\n",
       "      <td>-0.043901</td>\n",
       "      <td>-0.673259</td>\n",
       "      <td>0</td>\n",
       "    </tr>\n",
       "    <tr>\n",
       "      <th>3</th>\n",
       "      <td>-0.721728</td>\n",
       "      <td>-0.161695</td>\n",
       "      <td>-0.673259</td>\n",
       "      <td>1</td>\n",
       "    </tr>\n",
       "    <tr>\n",
       "      <th>4</th>\n",
       "      <td>-0.778670</td>\n",
       "      <td>-0.573976</td>\n",
       "      <td>-1.054270</td>\n",
       "      <td>0</td>\n",
       "    </tr>\n",
       "  </tbody>\n",
       "</table>\n",
       "</div>\n",
       "      <button class=\"colab-df-convert\" onclick=\"convertToInteractive('df-feb3a1c6-96c6-4a97-a90d-d262eedd92da')\"\n",
       "              title=\"Convert this dataframe to an interactive table.\"\n",
       "              style=\"display:none;\">\n",
       "        \n",
       "  <svg xmlns=\"http://www.w3.org/2000/svg\" height=\"24px\"viewBox=\"0 0 24 24\"\n",
       "       width=\"24px\">\n",
       "    <path d=\"M0 0h24v24H0V0z\" fill=\"none\"/>\n",
       "    <path d=\"M18.56 5.44l.94 2.06.94-2.06 2.06-.94-2.06-.94-.94-2.06-.94 2.06-2.06.94zm-11 1L8.5 8.5l.94-2.06 2.06-.94-2.06-.94L8.5 2.5l-.94 2.06-2.06.94zm10 10l.94 2.06.94-2.06 2.06-.94-2.06-.94-.94-2.06-.94 2.06-2.06.94z\"/><path d=\"M17.41 7.96l-1.37-1.37c-.4-.4-.92-.59-1.43-.59-.52 0-1.04.2-1.43.59L10.3 9.45l-7.72 7.72c-.78.78-.78 2.05 0 2.83L4 21.41c.39.39.9.59 1.41.59.51 0 1.02-.2 1.41-.59l7.78-7.78 2.81-2.81c.8-.78.8-2.07 0-2.86zM5.41 20L4 18.59l7.72-7.72 1.47 1.35L5.41 20z\"/>\n",
       "  </svg>\n",
       "      </button>\n",
       "      \n",
       "  <style>\n",
       "    .colab-df-container {\n",
       "      display:flex;\n",
       "      flex-wrap:wrap;\n",
       "      gap: 12px;\n",
       "    }\n",
       "\n",
       "    .colab-df-convert {\n",
       "      background-color: #E8F0FE;\n",
       "      border: none;\n",
       "      border-radius: 50%;\n",
       "      cursor: pointer;\n",
       "      display: none;\n",
       "      fill: #1967D2;\n",
       "      height: 32px;\n",
       "      padding: 0 0 0 0;\n",
       "      width: 32px;\n",
       "    }\n",
       "\n",
       "    .colab-df-convert:hover {\n",
       "      background-color: #E2EBFA;\n",
       "      box-shadow: 0px 1px 2px rgba(60, 64, 67, 0.3), 0px 1px 3px 1px rgba(60, 64, 67, 0.15);\n",
       "      fill: #174EA6;\n",
       "    }\n",
       "\n",
       "    [theme=dark] .colab-df-convert {\n",
       "      background-color: #3B4455;\n",
       "      fill: #D2E3FC;\n",
       "    }\n",
       "\n",
       "    [theme=dark] .colab-df-convert:hover {\n",
       "      background-color: #434B5C;\n",
       "      box-shadow: 0px 1px 3px 1px rgba(0, 0, 0, 0.15);\n",
       "      filter: drop-shadow(0px 1px 2px rgba(0, 0, 0, 0.3));\n",
       "      fill: #FFFFFF;\n",
       "    }\n",
       "  </style>\n",
       "\n",
       "      <script>\n",
       "        const buttonEl =\n",
       "          document.querySelector('#df-feb3a1c6-96c6-4a97-a90d-d262eedd92da button.colab-df-convert');\n",
       "        buttonEl.style.display =\n",
       "          google.colab.kernel.accessAllowed ? 'block' : 'none';\n",
       "\n",
       "        async function convertToInteractive(key) {\n",
       "          const element = document.querySelector('#df-feb3a1c6-96c6-4a97-a90d-d262eedd92da');\n",
       "          const dataTable =\n",
       "            await google.colab.kernel.invokeFunction('convertToInteractive',\n",
       "                                                     [key], {});\n",
       "          if (!dataTable) return;\n",
       "\n",
       "          const docLinkHtml = 'Like what you see? Visit the ' +\n",
       "            '<a target=\"_blank\" href=https://colab.research.google.com/notebooks/data_table.ipynb>data table notebook</a>'\n",
       "            + ' to learn more about interactive tables.';\n",
       "          element.innerHTML = '';\n",
       "          dataTable['output_type'] = 'display_data';\n",
       "          await google.colab.output.renderOutput(dataTable, element);\n",
       "          const docLink = document.createElement('div');\n",
       "          docLink.innerHTML = docLinkHtml;\n",
       "          element.appendChild(docLink);\n",
       "        }\n",
       "      </script>\n",
       "    </div>\n",
       "  </div>\n",
       "  "
      ],
      "text/plain": [
       "   volatile acidity  sulphates   alcohol  quality\n",
       "0          0.531002   1.605220 -1.149523        0\n",
       "1         -1.746689  -0.750667 -0.959018        1\n",
       "2         -0.778670  -0.043901 -0.673259        0\n",
       "3         -0.721728  -0.161695 -0.673259        1\n",
       "4         -0.778670  -0.573976 -1.054270        0"
      ]
     },
     "execution_count": 110,
     "metadata": {},
     "output_type": "execute_result"
    }
   ],
   "source": [
    "data_test['quality'] = 1 * (data_test['quality'] >= 6)\n",
    "data_test.head()"
   ]
  },
  {
   "cell_type": "code",
   "execution_count": 111,
   "metadata": {
    "colab": {
     "base_uri": "https://localhost:8080/"
    },
    "id": "DSXOgai9DO1f",
    "outputId": "f041deb0-e1e1-4a2c-f440-3aa3f812dab1"
   },
   "outputs": [
    {
     "name": "stdout",
     "output_type": "stream",
     "text": [
      "[0 0 0 ... 0 0 1]\n",
      "[0 1 0 1 0 0 0 0 0 1 0 1 0 1 0 0 0 0 0 0 0 1 0 1 1 0 0 0 0 1 0 0 0 0 0 0 1\n",
      " 1 1 0 0 0 1 0 1 0 0 0 0 1 1 1 1 1 1 1 0 1 0 1 1 1 1 1 0 1 1 1 0 1 1 1 1 1\n",
      " 1 1 0 0 0 1 1 1 1 0 0 0 1 1 0 1 1 1 0 0 1 0 0 1 1 0 0 1 0 1 1 0 1 0 1 1 1\n",
      " 0 0 1 1 0 0 1 0 0 1 1 0 1 0 0 0 0 1 1 1 0 1 0 0 1 0 1 0 0 1 0 0 0 0 0 1 0\n",
      " 0 0 1 0 0 0 0 0 1 1 0 0 0 0 1 0 1 1 1 1 1 0 0 1 1 1 1 1 1 1 0 0 0 1 1 0 1\n",
      " 0 1 1 1 1 1 0 1 1 1 1 1 1 1 1 0 1 1 1 1 0 1 1 1 0 1 0 0 1 1 1 0 1 1 0 1 1\n",
      " 1 1 1 0 0 1 0 0 0 0 1 1 1 1 0 1 1 1 0 1 1 0 1 1 1 1 1 1 0 1 1 0 0 0 0 0 1\n",
      " 0 1 0 1 1 0 0 0 0 1 1 0 0 0 0 1 0 0 0 1 0 1 0 0 0 1 1 0 0 0 0 0 0 1 1 0 1\n",
      " 1 0 1 1 1 1 1 1 0 1 0 1 1 1 1 0 0 1]\n"
     ]
    }
   ],
   "source": [
    "y_train = 1 * (y_train >= 6)\n",
    "y_test = 1 * (y_test >= 6)\n",
    "print(y_train)\n",
    "print(y_test)"
   ]
  },
  {
   "cell_type": "markdown",
   "metadata": {
    "id": "iLBoGswmIWO_"
   },
   "source": [
    "Now, it is time to actually implement the algorithm.  We will try out different k values with the testing data to try and optimize the k value.\n",
    "\n"
   ]
  },
  {
   "cell_type": "code",
   "execution_count": 112,
   "metadata": {
    "id": "EUVF_5ojQQOX"
   },
   "outputs": [],
   "source": [
    "# Given the training set and a test datapoint, and k, return 0 or 1\n",
    "def kNN(train_x, train_y, test_x, k):\n",
    "  # array of distances from test point to all training points\n",
    "  distances = np.linalg.norm(train_x - test_x, axis=1)\n",
    "  # k smallest distances\n",
    "  nearest_neighbor_ids = distances.argsort()[:k]\n",
    "  # get and return majority vote\n",
    "  return stats.mode(train_y[nearest_neighbor_ids])"
   ]
  },
  {
   "cell_type": "code",
   "execution_count": 113,
   "metadata": {
    "colab": {
     "base_uri": "https://localhost:8080/"
    },
    "id": "SFkE7XPd6cdg",
    "outputId": "b29363de-1691-4df2-f09b-ad1a73655ef9"
   },
   "outputs": [
    {
     "name": "stderr",
     "output_type": "stream",
     "text": [
      "<ipython-input-112-c74f5cf06423>:8: FutureWarning: Unlike other reduction functions (e.g. `skew`, `kurtosis`), the default behavior of `mode` typically preserves the axis it acts along. In SciPy 1.11.0, this behavior will change: the default value of `keepdims` will become False, the `axis` over which the statistic is taken will be eliminated, and the value None will no longer be accepted. Set `keepdims` to True or False to avoid this warning.\n",
      "  return stats.mode(train_y[nearest_neighbor_ids])\n"
     ]
    }
   ],
   "source": [
    "dict_correct = {}\n",
    "for k in range(1, 21, 2):\n",
    "  num_correct = 0\n",
    "  num_wrong = 0\n",
    "  for i in range(len(x_test)):\n",
    "    classification = kNN(x_train, y_train, x_test[i], k)[0]\n",
    "    if (classification == y_test[i]):\n",
    "      num_correct += 1\n",
    "    else:\n",
    "      num_wrong += 1\n",
    "  dict_correct[k] = (num_correct, num_wrong)"
   ]
  },
  {
   "cell_type": "code",
   "execution_count": 114,
   "metadata": {
    "colab": {
     "base_uri": "https://localhost:8080/"
    },
    "id": "GtOJL6bg9H9y",
    "outputId": "4de99e80-736d-471a-acc9-8928a8b264ce"
   },
   "outputs": [
    {
     "name": "stdout",
     "output_type": "stream",
     "text": [
      "{1: (233, 81), 3: (226, 88), 5: (232, 82), 7: (234, 80), 9: (233, 81), 11: (234, 80), 13: (236, 78), 15: (237, 77), 17: (236, 78), 19: (229, 85)}\n"
     ]
    }
   ],
   "source": [
    "print(dict_correct)"
   ]
  },
  {
   "cell_type": "code",
   "execution_count": 115,
   "metadata": {
    "colab": {
     "base_uri": "https://localhost:8080/",
     "height": 493
    },
    "id": "UCeIiLlrAMuv",
    "outputId": "579ada34-65b1-4cb3-d3f9-3d23dba8dca6"
   },
   "outputs": [
    {
     "name": "stdout",
     "output_type": "stream",
     "text": [
      "{1: 0.7420382165605095, 3: 0.7197452229299363, 5: 0.7388535031847133, 7: 0.7452229299363057, 9: 0.7420382165605095, 11: 0.7452229299363057, 13: 0.7515923566878981, 15: 0.7547770700636943, 17: 0.7515923566878981, 19: 0.7292993630573248}\n"
     ]
    },
    {
     "data": {
      "image/png": "[encoded data removed]",
      "text/plain": [
       "<Figure size 640x480 with 1 Axes>"
      ]
     },
     "metadata": {},
     "output_type": "display_data"
    }
   ],
   "source": [
    "dict_pct_correct = {}\n",
    "dict_mse = {}\n",
    "for k in dict_correct:\n",
    "  dict_pct_correct[k] = dict_correct[k][0] / (dict_correct[k][0] + dict_correct[k][1])\n",
    "print(dict_pct_correct)\n",
    "plt.scatter(dict_pct_correct.keys(), dict_pct_correct.values())\n",
    "plt.ylim(0.5, 1)\n",
    "plt.xticks(np.arange(1, 21, 2))\n",
    "plt.xlabel('k')\n",
    "plt.ylabel('Percentage Correct')\n",
    "plt.show()"
   ]
  },
  {
   "cell_type": "markdown",
   "metadata": {
    "id": "AF0V6egBwIUH"
   },
   "source": [
    "As we see above, the k-Nearest Neighbors model above, we are able to best classify wine quality with the k value of 15, yielding 75.48% accuracy.  Given that we only have two categories, this is not great accuracy.  Let's see if we can improve it.  We will also now calculate the Mean Squared Error (MSE) for each model.  Since it is a binary classification algorithm, for every correct value, MSE = 0, and for every incorrect value, MSE = 1.  \n",
    "![Screenshot 2023-05-08 at 10.10.15 PM.png](data:image/png;base64,iVBORw0KGgoAAAANSUhEUgAAAwQAAADiCAYAAADwDgDgAAAKH2lDQ1BJQ0MgUHJvZmlsZQAASImVlgdUE9kax+/MpBdaQgSkhBqK9BZAIBB6kV5thARCDRCK2BVZXMqKIiICiiCrFAVXlyKLiliwLQr2ukEWBeUpFmyoeRPZ+t557533nfOd7zffzP3fO/fOOfMHgJzEy8xMgxUASBfliEO93ZnRMbFM/K8AB2DAAPoA8PjZmW7BwQEAjd/r3+PtTQDJ6jVTmda/3/+voShIyOYDAAWjnCHI5qej3I+yBz9TnAMAjEFZd0VOpowNUaaL0QWivFDGwjmWjaXHz7Hg6zPhoVyU8wEgUHg8sRAAUiHaZ+bxhagOqQllC5EgWYTydZRd+Ek8dByZjvKC9PQMGXNQNoz/i47wb5rxf2jyeMI/eO5dvoYyNyMtQ8wM4Howuby05HgxLydB8H/uzf+M9LTc3+eTnQAlQRQRJls3muqACzJAGppiwAQB6JUHWrmAh/aSQTza5YEckAAEOQn5OTIBbkbmSnGyMCmH6YaeYgLTV8Q3W8C0srCyAED2TcxN85rxdSaIcfHP3iYPAJyLpVJp35+9gHgAOlXRfXnxZ4+FKlGXAnB+Ez9XnDfXkx0vwAISkAd0oAo0gS66elNgBeyAE+AAT+AHgkA4iAHLAB8kgXR03SvAGrARFIFSsBXsADWgHuwDzeAQOAK6QR84Bc6BS+AquAHuAQkYB8/ANHgLZiEIwkNUiAapQlqQPmQCWUFsyAXyhAKgUCgGioOEkAjKhdZAm6BSqAKqgRqgFugH6Bh0CroADUN3oFFoEnoFfYQRmALTYQ3YADaH2bAb7A+Hw0thIZwFr4IL4S1wNdwIH4S74FPwJfgGLIGfwTMIQMgIA9FGTBE2wkWCkFgkEREj65ASpAppRNqRXmQQuYZIkCnkAwaHoWGYGFOME8YHE4HhY7Iw6zBlmBpMM6YLcwZzDTOKmcZ8wVKx6lgTrCPWFxuNFWJXYIuwVdj92E7sWewN7Dj2LQ6HY+BYOHucDy4Gl4JbjSvD7cZ14Ppxw7gx3Awej1fFm+Cd8UF4Hj4HX4TfhT+IP4kfwY/j3xPIBC2CFcGLEEsQEQoIVYRWwgnCCOEJYZaoQNQnOhKDiALiSmI5sYnYS7xCHCfOkhRJLJIzKZyUQtpIqia1k86S7pNek8lkHbIDOYScTN5AriYfJp8nj5I/UJQoxhQuZQkll7KFcoDST7lDeU2lUg2oHGosNYe6hdpCPU19SH0vR5Mzk/OVE8itl6uV65IbkXsuT5TXl3eTXya/Sr5K/qj8FfkpBaKCgQJXgaewTqFW4ZjCLYUZRZqipWKQYrpimWKr4gXFCSW8koGSp5JAqVBpn9JppTEaQtOlcWl82iZaE+0sbZyOo7PovvQUein9EH2IPq2spGyjHKmcr1yrfFxZwkAYBgxfRhqjnHGEcZPxcZ7GPLd5CfOK57XPG5n3TmW+CkclQaVEpUPlhspHVaaqp2qq6jbVbtUHahg1Y7UQtRVqe9TOqk3Np893ms+fXzL/yPy76rC6sXqo+mr1feqX1Wc0NDW8NTI1dmmc1pjSZGhyNFM0KzVPaE5q0bRctJK1KrVOaj1lKjPdmGnMauYZ5rS2uraPdq52g/aQ9qwOSydCp0CnQ+eBLkmXrZuoW6k7oDutp6UXqLdGr03vrj5Rn62fpL9Tf1D/nQHLIMpgs0G3wQRLheXLWsVqY903pBq6GmYZNhpeN8IZsY1SjXYbXTWGjW2Nk4xrja+YwCZ2Jskmu02GF2AXOCwQLWhccMuUYupmmmfaZjpqxjALMCsw6zZ7bq5nHmu+zXzQ/IuFrUWaRZPFPUslSz/LAstey1dWxlZ8q1qr69ZUay/r9dY91i9tTGwSbPbY3Lal2QbabrYdsP1sZ28ntmu3m7TXs4+zr7O/xaazg9ll7PMOWAd3h/UOfQ4fHO0ccxyPOL5wMnVKdWp1mljIWpiwsGnhmLOOM8+5wVniwnSJc9nrInHVduW5Nro+4uhyBJz9nCduRm4pbgfdnrtbuIvdO93fcR25a7n9HoiHt0eJx5CnkmeEZ43nQy8dL6FXm9e0t633au9+H6yPv882n1u+Gr583xbfaT97v7V+Z/wp/mH+Nf6PAowDxAG9gXCgX+D2wPuL9BeJFnUHgSDfoO1BD4JZwVnBP4XgQoJDakMeh1qGrgkdDKOFLQ9rDXsb7h5eHn4vwjAiN2IgUj5ySWRL5Lsoj6iKKEm0efTa6EsxajHJMT2x+NjI2P2xM4s9F+9YPL7EdknRkptLWUvzl15YprYsbdnx5fLLecuPxmHjouJa4z7xgniNvJl43/i6+Gk+l7+T/0zAEVQKJhOcEyoSniQ6J1YkTgidhduFk0muSVVJU8nc5Jrklyk+KfUp71KDUg+kStOi0jrSCelx6cdESqJU0ZkMzYz8jOFMk8yiTEmWY9aOrGmxv3h/NpS9NLsnh47+fC/nGuZ+kzua55JXm/d+ReSKo/mK+aL8yyuNVxavfLLKa9X3qzGr+asH1miv2bhmdK3b2oZ10Lr4dQPrddcXrh/f4L2heSNpY+rGnwssCioK3myK2tRbqFG4oXDsG+9v2orkisRFtzY7ba7/FvNt8rdDxdbFu4q/lAhKLpZalFaVfirjl138zvK76u+kWxK3DJXble/Zitsq2npzm+u25grFilUVY9sDt3dVMitLKt/sWL7jQpVNVf1O0s7cnZLqgOqeXXq7tu76VJNUc6PWvbajTr2uuO7dbsHukT2cPe31GvWl9R/3Ju+93eDd0NVo0Fi1D7cvb9/jpsimwe/Z37fsV9tfuv/zAdEBSXNo85kW+5aWVvXW8ja4Lbdt8uCSg1cPeRzqaTdtb+hgdJQeBodzDz/9Ie6Hm0f8jwwcZR9t/1H/x7pOWmdJF9S1smu6O6lb0hPTM3zM79hAr1Nv509mPx3o0+6rPa58vPwE6UThCenJVSdn+jP7p04JT40NLB+4dzr69PUzIWeGzvqfPX/O69zpQbfBk+edz/ddcLxw7CL7Yvclu0tdl20vd/5s+3PnkN1Q1xX7Kz1XHa72Di8cPjHiOnLqmse1c9d9r1+6sejG8M2Im7dvLbkluS24PXEn7c7Lu3l3Z+9tuI+9X/JA4UHVQ/WHjb8Y/dIhsZMcH/UYvfwo7NG9Mf7Ys1+zf/00XviY+rjqidaTlgmrib5Jr8mrTxc/HX+W+Wx2qugfiv+oe274/McXnBeXp6Onx1+KX0pflb1WfX3gjc2bgZngmYdv09/Ovit5r/q++QP7w+DHqI9PZld8wn+q/mz0ufeL/5f70nSpNJMn5n21AgiacGIiAK8OoD4hBgDaVdQ/LJ7zbL95HOgvbuc/8Jyv+xp2ALSjJVTmbvoBOIymAQe1SWiVWcZwDoCtrf/I3yI70dpqTosiRq3Je6n0tQYA+F4APoul0tndUuln1D8idwDoz5rzirLAoQ56r42MRhj5G/7Vp/0Tbd/B8LDEkIQAAACKZVhJZk1NACoAAAAIAAQBGgAFAAAAAQAAAD4BGwAFAAAAAQAAAEYBKAADAAAAAQACAACHaQAEAAAAAQAAAE4AAAAAAAAAkAAAAAEAAACQAAAAAQADkoYABwAAABIAAAB4oAIABAAAAAEAAAMEoAMABAAAAAEAAADiAAAAAEFTQ0lJAAAAU2NyZWVuc2hvdNA5BM8AAAAJcEhZcwAAFiUAABYlAUlSJPAAAAHWaVRYdFhNTDpjb20uYWRvYmUueG1wAAAAAAA8eDp4bXBtZXRhIHhtbG5zOng9ImFkb2JlOm5zOm1ldGEvIiB4OnhtcHRrPSJYTVAgQ29yZSA2LjAuMCI+CiAgIDxyZGY6UkRGIHhtbG5zOnJkZj0iaHR0cDovL3d3dy53My5vcmcvMTk5OS8wMi8yMi1yZGYtc3ludGF4LW5zIyI+CiAgICAgIDxyZGY6RGVzY3JpcHRpb24gcmRmOmFib3V0PSIiCiAgICAgICAgICAgIHhtbG5zOmV4aWY9Imh0dHA6Ly9ucy5hZG9iZS5jb20vZXhpZi8xLjAvIj4KICAgICAgICAgPGV4aWY6UGl4ZWxZRGltZW5zaW9uPjIyNjwvZXhpZjpQaXhlbFlEaW1lbnNpb24+CiAgICAgICAgIDxleGlmOlBpeGVsWERpbWVuc2lvbj43NzI8L2V4aWY6UGl4ZWxYRGltZW5zaW9uPgogICAgICAgICA8ZXhpZjpVc2VyQ29tbWVudD5TY3JlZW5zaG90PC9leGlmOlVzZXJDb21tZW50PgogICAgICA8L3JkZjpEZXNjcmlwdGlvbj4KICAgPC9yZGY6UkRGPgo8L3g6eG1wbWV0YT4K1otUyQAAABxpRE9UAAAAAgAAAAAAAABxAAAAKAAAAHEAAABxAAA0534xKOAAADSzSURBVHgB7J0HuBRF1oYPKj+yioqg6JowK5gWzFnXAII5IQuKGBcU0RUQEWTVNSuigogZEwYMuILIghjBhKACBsyKYFiMsCrY//nKp5qenumenpmee7unv3qee7unQ3XVW9XhVJ3QwNEkTCRAAiRAAiRAAiRAAiRAApkk0IACQSbbnZUmARIgARIgARIgARIgAUOAAgE7AgmQAAmQAAmQAAmQAAlkmAAFggw3PqtOAiRAAiRAAiRAAiRAAhQI2AdIgARIgARIgARIgARIIMMEKBBkuPFZdRIgARIgARIgARIgARKgQMA+QAIkQAIkQAIkQAIkQAIZJkCBIMONz6qTAAmQAAmQAAmQAAmQAAUC9gESIAESIAESIAESIAESyDABCgQZbnxWnQRIgARIgARIgARIgAQoELAPkAAJkAAJkAAJkAAJkECGCVAgyHDjs+okQAIkQAIkQAIkQAIkQIGAfYAESIAESIAESIAESIAEMkyAAkGGG59VJwESIAESIAESIAESIAEKBOwDJEACJEACJEACJEACJJBhAhQIMtz4rDoJkAAJkAAJkAAJkAAJUCBgHyABEiABEiABEiABEiCBDBOgQJDhxmfVSYAESIAESIAESIAESIACAfsACZAACZAACZAACZAACWSYAAWCDDc+q04CJEACJEACJEACJEACFAjYB0iABEiABEiABEiABEggwwQoEGS48Vl1EiABEiABEiABEiABEqBAwD5AAiRAAiRAAiRAAiRAAhkmQIEgw43PqpMACZAACZAACZAACZAABQL2ARIgARIgARIgARIgARLIMAEKBBlufFadBEggmwTmzJkjc+fOlYYNG0qzZs1kyy23lJVXXjkPxuLFi+WDDz6QV199VVq0aGGOb9q0qWy00Uay+uqr5x3PDSRAAiRAAukkQIEgne3GUpMACZBAyQR+++03ue2222Ty5Mny5ptvyrvvvitrrLGGtG3bVgYNGiS77LKLyXPRokXy/PPPy7333ivz5s2T+fPny6xZs2TNNdcUCASbbrqpnHzyyXLIIYdIgwYNSi4HTyABEiABEkgWAQoEyWoPloYESIAEqkbg+uuvl+HDhxtBAB/2S5YskR9//NFcr2PHjnLRRRfJqquuKnfccYcRCJ599lmzb7XVVjMzBBAgbNpss83kuuuuk/bt29tNXJIACZAACaSUAAWClDYci00CJEACpRB4/fXXzaj+jBkzzHLw4MFywQUXyJ133ulmc+qpp8rChQtlypQp8vXXX0vXrl1lt912k/33398ID3fffbfceuutZsYAJ7Vp00ZGjRolrVu3dvPgCgmQAAmQQPoIUCBIX5uxxCRAAiRQMoHevXvL0KFDjVrQo48+akb8McJ/9tlnu3nhA3/69Omy4YYbmpmEdu3aufvsytZbby1vv/22/WlUkLp37+7+5goJkAAJkED6CFAgSF+bscQkQAIkUBKB2bNnm1mBqVOnCgSDIUOGmPP79esnV155ZU5ejRo1khdeeEG23377nO32B4SECRMm2J9y4YUXCmYbmEiABEiABNJLgAJBetuOJScBEiCBSATGjh0rJ554ovz+++/y+OOPy5577mnOO/TQQwX7vKlv375yxRVXeDflrG+77bbGINluHDhwoLE9sL+5JAESIAESSB8BCgTpazOWmARIgARKItCrVy+54YYbZMcdd5S77rpLtthiC2Mj0KFDB+NS1GYGoQE2Asstt5zdlLP84YcfpFWrVvLFF1+424cNGyY9evRwf3OFBEiABEggfQQoEKSvzVhiEsg8Acdx6O6yhF5w6aWXyqRJkwSj+9dee605E0bGmCGwH/ctW7Y0qkSHHXZYYM4zZ86U7bbbLmf/uHHj6Gkohwh/kAAJkED6CFAgSF+bscQkkFkCS5culXPOOUdeeeUVOeqoo4wXHPjGZwonANeiv/zyizRu3FhWWmklc/B9990nf/vb39wToUaEuAPrrruuu82/MmDAAIFwYROOnThxoplxsNu4JAESIAESSB8BCgTpazOWmAQySeCdd96Rnj17ymuvvSZQXYEggOBaiKDLVDoBuBi95ZZb3BOPPvpoefDBB93fhVYQuGzatGnuLrgjfeSRRwpGOXYP4goJkAAJkEDiCVAgSHwTsYAkkG0CCJ6FgFkPPPCAvPfeey6MddZZR6D2QoHARRJ5ZcGCBXL88cfL008/7Z5z1VVXybnnnuv+9q988MEHsvPOO8s333zj7oLb0rPOOsv9zRUSIAESIIF0EqBAkM52Y6lJoGYJ/PzzzzJ37lzj2hL66R999JF8+umnefWlQJCHJPIGzLJ06dLFRCzGSc2aNTPehxCELCgNGjRILr74Ync34hEgUBnsEphIgARIgATSTYACQbrbj6UngVQTwKgzouVCx33RokXy+eefmxHo7777TmA4HJYoEITRCd8Hz0BnnHGGe9AOO+wgDz/8sKy//vruNu8KZmYwo/Dyyy+7mw8//HAjEFibBHcHV0iABEiABFJHgAJB6pqMBSaB2iEAH/jwdFNOokBQDrU/zjn55JNNhGGbAz7uIRAEuRt98skn5YQTTpBvv/3WniL333+/dOrUyfxeuHChwOAYEYxhU9C8eXP3OK6QAAmQAAkknwAFguS3EUtIAjVLoJhAsPbaaxuD1ffffz+PAQWCPCSRNsyfP1+6deuWE224WHAxG8fAXgDqQjDotunyyy+X/v37S+vWrWXUqFHSpk0bu4tLEiABEiCBFBCgQJCCRmIRSaBWCUAgOO2006RRo0bSpEkToyYE16Krr7667L333rLffvvJ8OHDzei1nwEFAj+RaL/hshUByGbPnm1OWH755WX8+PECj0GF0qxZs+SUU06RqVOnuruPPPJIt03QXnBZ+tJLLwlmGmD83bBhQ/dYrpAACZAACSSfAAWC5LcRS0gCNU3gueeeM96D2rZtK/B+s88++xgBwVYavvLhM9+fKBD4iUT77bcf2GSTTUzQsiD7gSlTpghUjGDvYRM++o855hjz86mnnjKqQxAMbrzxRqNaZI/jkgRIgARIIB0EKBCko51YShLILAEKBPE2PeINwF7AJswMeN2P2u12CQNvCA3WfgAzOZhl2GKLLQS2A927d5fHHnvMzOjArmCttdayp3JJAiRAAiSQEgIUCFLSUCwmCWSVAAWC+Fp+3rx5cvDBB8v06dPdTOFKFJ6eghLOgYvSZ555xhzSsmVLcz4EhT59+siYMWOMutF5550n++67b1A23E4CJEACJJBgAhQIEtw4LBoJkIAIBYL4egECuWFGACP7SFC7Gjp0qMAmICz5YxDgeNggzJkzR1ZZZRVjSFyut6iw63IfCZAACZBA3RCgQFA3nHkVEiCBMglQICgTXIHT4GEIMwQITIbUuXNnGTlypBSLJbB48WLp2bOnvPXWW+65OH+bbbYRRDg+4IAD8JOJBEiABEggpQQoEKS04VhsEsgKAQoE8bY03IVOmjRJ4F0II/2YJYiSfv31V5kxY4aJHI1o0kuWLJH27dvLeuutF+V0HkMCJEACJJBgAhQIEtw4LBoJkABVhtgHSIAESIAESKDaBCgQVJsw8ycBEqiIAGcIKsLHk0mABEiABEigKAEKBEUR8QASIIH6JECBoD7p89okQAIkQAJZIECBIAutzDqSQIoJUCBIceOx6CRAAiRAAqkgQIEgFc3EQpJAdglQIMhu27PmJEACJEACdUOAAkHdcOZVSIAEyiRAgaBMcDyNBEiABEiABCISoEAQERQPIwESqB8CQQLBWmutJRMnTpStttqqfgrGq5IACZAACZBAjRCgQFAjDclqkECtEggSCOA/H5F3W7RoUatVZ71IgARIgARIoE4IUCCoE8y8CAmQQLkEwgQCRNzFTAETCZAACZAACZBA+QQoEJTPjmeSAAnUAQEKBHUAmZcgARIgARLINAEKBJluflaeBJJPIEggWHfddeWVV16RtddeO/mVYAlJgARIIMEEfvnlF2nUqFGCS8iiVZsABYJqE2b+JEACFREIEwhefvll+fOf/1xR/jyZBEiABLJM4K233hI8Z4844ggZPHhwllFErvvvv/8uCxYskJ9++kmwvuKKK0rTpk1llVVWiZxH0g6kQJC0FmF5SIAEcgjUgkDw3HPPCV66WCY1LVmyRFZYYYWkFk8wgnnUUUdJly5dEltGFowE0kZg5syZRhiYNWuWbLbZZtK/f3/p1q1b2qpRZ+X9/PPP5aGHHhIMRuGZBKEAAkGzZs2kcePGssYaa0j79u2lbdu2AscXaUoUCNLUWiwrCWSQQJhAMG3atFQ8dCdMmCDdu3eXefPmZbAF46vyPvvsI5MnT44vQ+ZEAhkmMH36dCMMvPPOOy4FfMReeOGFcsopp7jbuPIHgVGjRgn+pkyZIkuXLg3Esv7668tBBx0ke+yxh3Tu3DnwuKTtoECQtBZheUiABHII1IJA8N5778nBBx8sWDKVTwD2Ivfee69AMGAiARIonwA8tGG27d13383LZLXVVpNLLrlEevbsmbcvqxtuueUW6du3r3z33XcGAdSDNt98czOr+uWXX8rXX38tP/zwQw6eHXfc0cwWpEYNy2EiARIggQQT0BEWR5+yeX9qVOx89tlnCS75sqLNmTPH2XDDDfPqUKhe3Jbf1l4m+hGzDCzXSIAESiagM6uOqgflPI822GCDnN/LL7+8c/XVV5ecdy2e8Oyzzzq77LKL4aMzKM4FF1zgqOqQW9X//e9/zksvveQe431ebbPNNo4KE+6xSV7hDIG2HBMJkEByCYTNEEydOlXgbSgN6YYbbpBBgwa5I0xRyoyp52OPPdZMP0c5PuwYqCvBAPu///2vrL766mGHyvz582XNNdcUfXkZ/Vjv8o033pD11ltPvv/+e/nxxx/NH0YZ4aHkm2++kW+//VYWLlwoixcvNjq2ixYtMsvQC5awc6ONNpKxY8dK69atSziLh5IACYCAfrgaG4H333/fBYKRbv3glRkzZpg/u+P//u//ZMCAATJw4EBp0KCB3Zyp5VdffSU9evSQMWPGGI925513nvTq1asggy+++EJOPfVUGTduXM7+jh07yhVXXCGtWrXK2Z64H0mWVlg2EiABEgiaIdCPUufTTz9NFaBOnTrljMLpC6Ho76222sqZO3duquqJwqog4HzyySeOuoZ1Ro8e7ei0uaPCnYMRs5YtWzoNGzYsWvcgPvpSTh0PFpgE6pvA888/72y66aY59x2eLyNHjjRFU5VGZ88998zZr+pDTr9+/RyMgmcxYZbEPoc22WQTZ/z48Y4aEgei0MEKp3nz5u459ly1yQg8Jyk7MALERAIkQAKJJRAmEOCDM01J9UydrbfeOu9lYV8aQUv1rpOmahYt64cffug8+uijDl6S4KGeOUpiAnUHHbkreh0eQAIk8AcBNYR18EHrfcZAOH/yySdzEOEZdcghh+Qcp7Y7zplnnunojGDOsVn4cfbZZ+ewULeizpAhQ0JZqL1YzjlgDpWjpA9gUSDIQo9mHUkgxQRqSSBAM7z44osOZje8L+Zi67CXuOaaa1LcisFFV5d9hglmD1DPYiywX937OSNGjAjOlHtIgARcApMmTXI23njjnHtLPeA4t956q3uMd0XdaRphvUWLFu45mNXDwISqBHoPrel1CEB4LvmfSVtuuaWj6qqBdb/55pvzzlFVR/OcCzwpATsoECSgEVgEEiCBYAJhAsHHH38cfGKC90B95k9/+lPeS8P/4vH+xtQ+jNtqOakNgvkQ8X+8eDnY9R122KGWUbBuJBAbgcMOOyznWYMPe3XfWzR/1Xt38PFr7zkICOp/v+h5tXIAZks6dOjg1t9ywHL48OGB1dSYM47aVOWdp3YIgeckYQcFgiS0AstAAiQQSKAWBQJUVv1U570wvC+cQus77bSTo8bBgaxqZQdGITFVr0bQgYygZkQvKLXS4qxHNQnANmCvvfYy95I6KShJdeXhhx82QoE6GXDuuOOOahYzcXmri1FHHUHkPYPatWvnPPPMM4HlxcBNoVlgPNOSnCgQJLl1WDYSIAEnTCD46KOPUksIZY8yEu4VDDCroF4sUlvnUguuAZOM4FRotA1coOvMRAIkUJyARiJ2YIyPUe9S0xNPPOFgtiCLCTMi++23n6Oe2YxgALuLPn36hNoQvPrqqwUNi6+//vpEI6TbUX2rMJEACSSXQJDbUbi+fO6550R1W5Nb+CIle/zxx41Lu1IiGKuXEBNJFFyykvr37y+ql2vcmXrrrLEdjAtSVafybuY6CZAACcRGQD/wBX/qxMIERUTAsTDXzTqrIkcffXTO9fGM+sc//mFcvubsSNAPCgQJagwWhQRIIJ9AkEAAH/0IIY+PwjSn3r17C2IUqHFt5Gpst912gsiZ22+/feRz0n7gxIkT5fjjjzcxErx1QTTVG2+80buJ6yRAAiRQbwQQ0fiqq67Kuf6BBx4o559/vqhb15ztSfpBgSBJrcGykAAJ5BGodYHg119/FZ2SFvURnlf3sA3777+/PPTQQ7LqqquGHVZT+3T6Xk444QRBIDSb1JWiCbakNgV2U1WWCOiGNkLQtZ133lm22GKLqlyHmZIACUQj8Pbbb4uqQolGVRY1lI52UpWPwmzvMcccI+pNLudKF198sWiE45xtifuRaIUmFo4ESCDTBJYuXWr0N/XBmWfYBReVYYZdaQIHrxRwS1eonkHbYOSnqjRpqmYsZYXBXtOmTV1WGk3Vue6662LJOygT+Gr/61//6l5z7733DjqU20mABOqAAN4NuA/xfGzSpIkDT0oqtNfBlcMvgWeR/5mtswOODmKEn5iAvZwh0JZjIgESqB8CCAs/YMAAWXHFFUV9X5vRV30uSoMGDUQj2Yoa3sq0adMCC4fpVzW0FY2mKRpJU1RIMMdiFFc/FOVf//qXCTcfmEGCdqhPcDOlrEZ/kUuFUerLL79cDj300Mjn1MKBw4YNkzPOOMOtClSnoONbjfTGG28IRvc0kJrJXo0K5bLLLhP1ElWNyzFPEiCBiASgNtmrVy/z7McpGvxL7rvvvnqzK/vggw/krLPOEh1AcGvQqlUrufTSS1PxjKZA4DZbelbmzp1rpqN0hFCgbrDCCiuIRs8T/NZRRvMhFVYb9dwh77//vtE/1giEYYdyHwlUlQAEAhhblfIRXEqBHnvssVQ8iG2dunXrJnfddZf9GWmpkX5l9OjRghdPltKRRx4pjzzyiKnyWmutZT4E9tlnn1gR4FmLF/y4ceNMvjBg1+jKRnCL9ULMjARIoCwCcDiAQRGbdCZP+vXrJ1CprOs0cOBAueSSS3Iuq56dzMDUcsstl7M9kT8SMEuRUwT9wHWC/n7++eeC+xBVr74Srl2ovEFltceWWt4FCxY4Kg2bKTJ96TmbbbaZ06xZMzM1tdJKKzkbbLCB07p1a0dHDJ2///3vjnpfKXiJl156yRynndG4cyx4EDeSQB0RQL9eZ5118qZY0T/j+FOBoI5qEs9l4H+/TZs2Jde9ffv25jkUTynSkYvfbavOksRa8Dlz5jg6+ui2RfPmzR01ai56jd9++82p9J20ZMkSB3+VJJSDKX0E2H9Kb7PDDz/cvU/x3lBhwPnss89Kz6iCM9SxgfkO8763TjzxROenn36qINe6PTVRMwQapVIOOOAA0QehMs1PK6+8sijcvB1QGYDHEUiFbdu2zdtfjQ1jx441Xj7mz59vVB381wgqK45Tn9rGO4p+yPtPK/j7wQcfFPUBbFxe6QdDwWP8GzFqCPeE6i/XGMDZ/fDScffdd5ufGGGDe6xCSXWzjaRrXWtpt0TMCvOH4+26XdpthfKKc5sKVAIpfPfdd48zW+ZVTwQwQ6CRMOWHH34Q1Qs36j9hRVG9UWNAVuwYDTkv33//vaRthgD1guHscccdZ9Slwurp3QfDYqjQ+EenvMfU4jo8NEHVSgdgjJoAvDV17Nix4qp++umnRpXtnnvucfOC0SKMuMMSZhKgXoR3GJ6NjRs3NupwUF/DTC7+YAAJlThvQr9evHixLFq0yPzhfIwoaiAoM4PmPbbYOgyfBw8ebPo/1OhwTajf4bp4V+K9g7zh1QrccE39CBWUAcfqR4zAcxNT3ROIu//cfvvtgm+BUtILL7wgg7X/aFAu822DfhO1/+DY7t2713n/wXcR1Ednz57tVhXfOjfddFPRd4p7QgUrcH99+umniw4iuLlgZkAHZ823qbsx6Sv60EpMQsAMhKNXZmX9qfeJOquLvrDLKiPqpi4DI0mNMJBBIBH1ohF4LUTytDMFhbjpw8DRF6bhog8HB4aI9jgVCAJ56Y3kHmePT8oSUjdT7RDArNUDDzzgPPXUUw4iaob9Pf3006H7ca66InUQTEZfrqmFpFPgjn7kl3QPqjqLYZjaSpdRcB1EcnRwwNGBIBNN9d///ncZueSegtF9tWtxVA3J5a+6yY6qD+UeWOAXosDG9ZxUuxpzXxS4TOgmVXGqqAz6YROaP3dWj0At9J/TTjuteoBCcoZWBKKX2/sP6/h+qnbCu2bbbbd1rwtnF0OGDEnljC1GMRKTKhUI0ChRHtqVVlhdXZkXEDqetXK3nTDKMopAAFWKfffd1+1k3nzxkX/yySc7ajzjqA6tM3PmTGfkyJEOBCKoEtmIevYcqGR06dLFCCJ2G5ZhAgGEB++xSVo/4ogjKm1Cnk8CiScArxml3ne4/6FKw1Q+AR2Vd5/v4I8BF51VLZoh1ER33XXXktssqI3xPkOE2FKTuuktuwxqnO9ce+21pV6Sx8dAIO7+g+8M1WQouWSV9p9rrrmm5GvGdYJqieT0fbWrKuseilqeL774wkRLt/cwhAF1LRr19MQdlziVIRiCYCoT05owNMSUJxLUiey62VDgH87BdO3ZZ59dYG98m2DAAu8lUF+CP+ogLyhWlQlL1AmeVDA9i+k3dZ1n6lioVJi+xbSbd7oax+F8qPlAZWbzzTcvdKrZNnz4cBOoxzt9Zc/3MgxTGRoxYoSZNsSUN6aSMeUNtY4oxp9oBxg4a2/PKyPqhvojWdUwHAcuyB/XKpZ22203wbQmEwnUMgGorUCF0utzP0p9O3ToIDpSHuVQHuMjAK9WOnhi4hrYXVF54nkGtVV4O9JZBvOcg7crrMP7SLEEg2WoXEBtR2d+5eCDDzZqYPZ5Wex8ux8ekKAKCpUPqLTi2RqW8IxXocdEXoXq2YUXXigwzGSqWwJx9h8dBBT02zPPPNN930atDb5voBqXxv4DlWIdpJWpU6e61VWtE3M/QK08zgS1VNwrOhtgsoWDFnDD90laU6IEAkBEg9olPh7xUsRDFXr0EyZMkA8//NDsxwcn9I/9CW6nVAXBvzm237hpd9ppJ5k+fbqo71tjDwBhxZ8QPbVTp06CoErrrbeeechDKMCHNZJd+s/DbzzQIdhAp9QmuFWEfixeVlETdOrCgh2FCQQQdtQox1wKnCGMIOCGzkaYtvALG7ZMEFR0ZNMILqijv55oT3tj4iUJPW/YW+ClB91p6LSi/b788kv5+OOPbbY5S+hEvvbaa3l55xzEHyRQAwTwzDv11FPNczBqdXCvnnvuueYZEvUcHvcHAVXZMO5F8e5BatGihfmN90rUhEEX2Ajggwof+Hh+4kMBetlBSY0iRf2Xu89GXB9/GEwqNeE5DZ1qeO9S9Q1j6+bPA8Hc8F6CVyZ8OGL9888/N4f95S9/8R/O33VIwPYfvBth64H+AwEPH59Bqb76Dz6+YbOTpP6jaqXmO8kOXuIe7qbe27yeiII4Rt2Obzm0h7XZgiti2PuoQ4i8LDDIiWNRHrhHhpeyxKbEzVkEFAhqOtCRVZDmD1Mzdt27VENaR6XDgFwq34xASNr5zbURSMirZ+othwoEzptvvlnyBfVD10EdvHlhXSX9kvPCCTfffHNeXjbvMJWhsIt17tw5ME94O1K3pmGnR9o3fvx4R2+egtfBNKAKDJHy4UEkkHYCffv2dfQjv+C9YO9l/xK2RXhWMUUn8Morr+S8Y8BUZ2qjZxBypI7U5+XtbTMdJHH+85//hORQ3i792M/rNzqrHeiFrryr8KxqE4AKsff7x9t3sM7+k9sCe+21V06/h42RDo7mHlTBL6jV2TaAmiDUtsOStd2EmneSU6JsCMJA+QUCGJLpVKfbKLZxsKymIUnXrl3da8LVnxUOvNfHerkCAQxy/HnBlWglesHqfSQvT1yjXIFAJdyC+SHPuAQC2xd0piTvWhDE0B+YSCALBHSkOCdKrv/5EPQbgrOOLmYBUSx1hKtCL0sMzGi8lljyRiZ43nrz96/DUUWcqUePHo7OvrrX1JFSB+8X9Cem9BFQL1duW/r7Dn7H3X/gvrxQ/4Hr9KQn2Fbq7FoOL7gmjSONGTPGzRcCt3o2Cs0W+217YdAhySm1AgGManVK1AVtgWOJkWVVM4qdu07FuqP3+ODXAEJGMvde266XIxCoOlTBUfFK/WuDBYwNbdnsMg0CARrRb1wJaTsozkLsjc4MSSABBPBSKTRzaO/loOXRRx+dgNInvwhXXnllnlenuJ0XqPpX4CAW2g8DHfCaFEeCZznVaXaf+XhmXn/99XFkzTzqiUCU/qNqKbGU7rbbbkt9/1HVN7f/4/6CkX6ls6aTJk1yZ2vVxsd4vCsG/PzzzzflwOAxvOAlOaVWIFDdLRNYq9CLEB+/5XhnKNZQeMhaqROdbdasWbEKBJA8MdXvrxNGyStNeBmozUNO3mkRCOBG0hu8So3unIsuuqhSJDyfBFJFQJ0MFHw++J8X3t8awdxR3fRU1bM+CutXMYAKBgKTxZlUJ9zZeOONc57B3rZSZwzO/fffX/El8dGBASmbt9oxOJjVZUo3AXW6UbT/xKGSglmxWug/cP1p7wG7POmkk8ruBFBFt4My8AA5efJk49VSHcQ4ag9Z8O+NN95w1DGEKQe0WpI+Y5tagUCNNBz4nPZ+KNpGxzLu6TP0ov322880LFSV1MuQ8XceZMtQzgwBdIW9dbDrUVzeFevliGngj2eQFoEAdVPjpRw2dI1XrMW5vxYJqIFxzn1gnxFhS6jx4cXEVJgA4l9ocLwcrnjWVyPhgySsrSqdDcYMg3o5ybkG6qIOKqpRHeZZxwSq3X8QKb1W+g++ebyCDe47dQhTlm3nk08+6dgZB8TKUucpTuvWrc0fhASoZ3r/MDvnV2mHehFcyyY5pVYgQOAs9eKQExDC+6BVq+9Yp2dgIGzVbpA3XrCQCjGS5L2uXS9HIMAUtT3fu8TMQRzJH947TQKBRpx14CPbcoFdBBMJZI3AJ5984iBIlr0Poi7xIlTPYVnDFam+iN/i5QgDbhvMMVIGJRwEVUd/nBjvtTFoo97dSshx2aHq+cTx+5DHu6rc/JblzLWkEIBhbLH+o578yi5urfUfOAXw3l8IVnb11VeXxAd6/+qNKycfb55R18E26SnVAgHgWv0sf6Ngqnzo0KGx8YeKClRVcB1IekhxCwR+ydzWqVevXrHUY9iwYTmdOk0CgfpiNzq2lkmlI2mxAGUmJFAPBF5//XUHjgbsvRB1idkFplwCUPv0P3eh1oOAQ9VIMMjESGJQm0EYgWe4cpLGp8mZMcco5owZM8rJiucklAAMwtl/ojcOPHdZDz/2noPtqbqPj5QJBlEKOXqxeZWyPOeccyJdsz4PSq1AYPXqETY66OWIkbQ4EkLZw20VGh8zAqNHjzbZQre9kM4/jitnhsCvFmM7mwaJiaMaxmNG8+bN3ZdRNQQCqFC9+OKLkcurPnod6ODZv7ATMVVnmey4445hh3IfCdQ0ATg0CHNDaO8T7xJeZuLQMa4lsDCe9HOM670RxEljRLjPMW/72PVy1JVuueWWHJVQqEBVw41pUJ24ve4I9OnTh/0nIm6oDfntdqDqo7GOIuUAI20YD9t7s5JlGoz6UysQQGXIJnwwF2oodIRSPk5tfv4lLMutMQk8GGkAF3NInDMEkPwPOuiggvWAdTr0XCtNGJ3y3hzVEAhKdTsKIzro24EvVIIs20J1hRs02844PqqUXygvbiOBtBOAW0kYotp7IsoSKimYbWP6g4BGtc/jV+2RPI1kHBi/Bm0Ib0OYuYiaYEvnHTWGausDDzwQ9XQelzICiFUUFP/I9p9S3HLXev/xfx9qNG7nmmuuidTq0PmHgH7ggQdW9LfHHntU7OEoUoErPKgmBAKM8qCRC70Qyw3o5eXqnTLq2bOnuytOgQCZhvn3R8yDOIJxeb1pJEEguPPOO912w+xCmEAAIdC2MV6aSbfYdzsKV0igCgRgQKrRyN17wt4bxZbt2rVzoG+e9aSR0N2ZX8tMI6ub2cpqs/HOdtpre5eXXnpppCJgltrrfhsz1vDAx1TbBDBD7u0v/nU4PYmSstB/4IDGzwej/lGTRo524viLer36PC61AsEVV1zhcoP/fviY9Tc6fm+99dYV+XbGB6q1Lkde3mlYvztM7/XLURkKsoew+cKnOCJeVpJgoIz6QL/Uy7CUPMMEl1JnCPDis/UrJhBgJKNZs2bmeMwqQJeaiQSyTACqQ9ttt517D9l7KWwJ+6rBgwdnGZup++OPP56n8gmvdZU+Y6OA9T73CrUVjMCLJbiH9H4YwiU24vMw1T6Byy67LPSeZ/9Z1gfgLtQ/kwo+c+fOXXYQ1wyB1AoEXpUh1OT4448veINgxAQeaspNsBewrkWhWwpJ0aa4ZwjgyQj6bYVeEHYbVJZg9V6u0RvUbOCFALp15aY4BQIIObZuxQQCBBWBgRBUqOAtgAJBuS3I82qJwO23356jCmjvp7AlVIdwP2U5devWzX32WFYQruoiQaUjyEMdyoL31syZMwOLgue/P7IyZn4Q64Cp9gmExUCy/SfMoDxL/QeaBPhmsPc4llA5HjduXO13lBJrmFqBALqf3oTG9RuH2Q5QScTJjh07mo4EY1y/7/u4ZwhQH3jPseUOWjZt2tTomUI3DiN9cEUWV4RLL9Og9TgFAq//72ICAcoDYcb+BZWP20kgawTgOrNRo0ZFnx3eZwpmVbPsktKrPmm5HHXUUXXWdRDcyF630LJ3796BZUF7I+CYPQ8qSBigYsoOAfaf6G1tncLY+wVLRCdnyiWQWoHAP0OAKH5BU+dQ9Skn6iRiDdg8MTLvH7GJe4YATQPj4SDBxtuZveswMILEi4h40B+ttoAQl0CAYB9QX7B1iSIQ5HZf/iIBEgCBjz76yH1W2fspyrJr166ZBAhjQTwz/YzqUpVq5MiRedf3lgeDJYVSly5dXNVJHI/jMDjFlC0C8Czl7S/+dfafZf2h0GxgKXYEy3Kq7bWaEQjQTBdccIHToEGDvJsE+mPleI7wevEoZIBbDYEA9TjssMPy6uC/2cN+Q48fhmaIlwBXVwsWLEC2saVKBQLEQ4Aw4HcXS4EgtiZiRhkkgMEEDH6EPRv8+3DP+QdXsoDuvffeK+ip5Yknnqiz6sP2zev1zd82CEA1bdq0nPLAgQbazB4LoSYOD3Q5F+GPVBAo1n9gbwf9eW+CeiHsZLz9Z/z48d5DanJ9xIgRbp1t3SEwJT1ycF03Rk0JBHDnFqSDD/3/UjxrLFq0yMGsADoP9G0ffPDBvLaplkAAzzs2KrLtvOUumzRpYuoxfPjw2MLXhwkEMPaFwRwePPiDtwPcjFhiChw2A1BV8BrD2bpRIMjrYtxAAiURQABF3IP2noqyxIsR8VyylIYMGZLHCHEa6ppDscEfbzC5u+++O0cYyKowl6V+WqyulfQf6NXjuyAL6ZFHHnEQ9M/7PIRgRBfMua3fAD8VUuKTGtGI6vOLuoozZdVRLTn99NPzyq2GVqKegPK260iK6OiKqD/YvH2FNkycOFHUZalohxH9eBU1TBZ90eYcqhK6aEhrUZ32nO34oV6GRL1YiI7Y5e2LskFH0UV95YqqAkQ5vOgxOhIl+gKRG2+8UXT2oOjxYQfoS0p0ujLskLL2oXw6IiZ6o5Z1frVOuuqqq0TjJYgaZFfrErHlq+pmogb2orrQseXJjNJDQAcyRIVuUZuqkgq96667io6Oi45Kl3ReWg/Gu0A98uQUX2csRWcuRV0a52yv5o9HH31Ujj32WNE4NAUvowNDoqqq5v2jnmVEHU+Y4zRmi+A5rJ7iCp7HjdkggO+SY445hv2nSHOrGrWoipCo0b17pDomkYceekjUlsjdlvmVXPkgub/glcGrWw/1oELpjjvuyAtVrY1sJEOoAEVNJ510kjmnYcOGjt+A2eaB0STv9Ju9DpbluB21+dolgqphZsObb6XrGJ2PGqXPlsO/DJshqKR8SZwhmD59euCsUyV1rea5cCnr9Yblbz/+rm0C6LNBbpiD+h0MkhH4LyupkG9yGB5W4n2tHHaILYP7NahdoP553XXXubPV9rjjjjuunMvxnBojgP4Tpk3A/vNHg7/11lsOHMPY+wdLqJIX0vyosS5SUnVSqzKkI90FK4pgM0EvQ+jXRvExjTxs7AHkFeSer1oqQ96KQYcU3jD8brO8HbvUdXikgIvTclOWBAL4+t5mm21yHiSl8q7r4w8//HBn6dKl5TYvz6sBAvfdd1+ofnqhPolgf5haz0LyBpu0LOBAoj6inwe5zLbl8tta6ax0nQsuWegTaa0jPE7ZvlJo6e8/e++9t/Ptt9+mtbpllRueCaES6OcT9B1Z1kVq4KTUqgwNHTpUevXqpe2bn9SiXDRgT94O7RBGZaaYOoXqakrfvn1FhQfZfffdRQUCWWGFFfLyq6bKkPdiGkDDTBvfe++9okKI4Lo//fST95CS1zUctyA/9etf8rlhKkNQqzrvvPNE/WibfBcuXCgaMEd0BFKeffZZUQNn0WBvog8kUcO+nGsnVWUI6hfoE+oRKae8lf4AG6+KhhrEmyztEj/sul1G2da5c2ej5mYy47/MElDBXUaNGiW//vprZAY6Si5qw1SxWmHkC9bTgVCrevjhh3OurgMlojFecrbVxQ81CjZqQ+opr+jloO4JNSO1ayt6bKkHzJs3T9Qbn6ihpeishfkrNQ8eX/cEJkyYYNSGovYfFfoFKtT1naD+/c4775jvLKhyQ625WgnvWtw76OPe1L9/f1GbR++mbK+nRajxqwz5YwJ466F6YcZPv7ZsnkR40EEHeQ8tuK4fy+Y8eHlQwaPgMdhYFzME/osjWi+muxFbAdH2MKrldd1ZqM6FtqFu/fr182cf6XfYDAGmKPUmL5oP2mi33XbLaZ8kqgwVrQgPIIGEEkCU9TZt2uTcY4WeBd5tMLzr1KlTzauc+YN6gcGee+5ZLy353XffGdeh3nYotA7VEL/XobgK/PTTTxuvdLgu1MfgkhGubJmSTwDB6PyzAEH9x+91qL5q99prrzkwmEdMJZQV3wLVDDQKFVp8X/i5MLJ3bg9IrcrQ1VdfnVsTzy+4krLxA/wdADdOmLoMogBbT0VQF4IgEpTqQyDwlkWlXhMbAZ5FDjnkEFNuuLFr3LhxXsf3c8Bvnf0IVIfyXse/HodAgDwR58GqZqE8FAj8pPmbBCojMHnyZPd5VugZUGgbhIgbbrihsgsn/Gw1os57RiKOS30lne3OK4+3bWCTNnbs2KoUD+8R2I94r4d1qJ0xpYNAsf4DdcBq9Z9yCOH7zd/fqv3MwWCl/5qVBK0tp95JPye1KkPwrgC1nqCkH8miri7zpss1uqPoCLsMHDiw4KlqrCyXX365qA62qEsvMz1b8EDdWFcqQ0HX92+HpwpM+aqkbcoN7xSFPCDZ8+DBQuMziOrT2k2RlmEqQ3rTCaYwMeUcJWm0ZdGPFnNoVJUhja4qaCeoIWEq8J577jHrUa7HY6pLQI3xq3uBKue+/vrrm+dDlS9Tp9lrRE7Rl61R1Yt6YR0tl/PPP18OPPDAqKek5jg8J3VEUtRNdU6ZdVDFeIbL2VhHP/TjW8466yzRiPN5V4RaJ9Qw1blF3r44NsCTHd4B8Kxn08orryy33nqrUWWy2+pqCc9+eHclNamb3rK9B1arTvCCBxXqoP6j2gDmXV+t65eS79dffy06C+m+93Eu1HHxTVfIc2QpeYcdi+8dtQnMOQSq095+n7Mziz+SLrHY8vlVhuDrPixh9NmO9Gu75kiGmD0o5IUFU7fWIBm+vMeMGRN2iXpRGQotkG8nojMXC28Og+VSU1wzBLjuGWec4bZN1BkCdQPqngOpP4qheKl15PHlEQiamfPfg0n9XZeRassjXPpZam9UVrBDPDtmzJhR+gUTfsbixYsLqlKpbVm9lVztAgJnduGFqJQYOqVWAkHaoCbmvScRL0b1rUvNquLj1V7OadWqVU5ZvOVKwjpm0FRfv+K6xpmBuh8N7T9JcjKB97XaueW0MfpftWMCFOpX8OLItIxAalWGLrnkkmW1CFiDvUChBwg89misgryzoJ9vp5UQ6bdYhN/6VhnKq0CBDXCjV0hf1nJB8LUwFaoCWTpxCgTeAEFRBQK8rGz5EeCMKTkEKBAkpy28JcHggB3ssPdOsSXUD3UW1JtNTawj6KRXVdFy0HgA9Va/MJWPuijXzTff7OhsrbGj0Pg3Dryr1UfS2D95AaRs+yRliY/IpHnpqe/+U2pfQfBV2KnAbkdnMI36cKl5lHp8oSju8LjItIxAagWCf/7zn8tqEbA2evToguHp8WCBqzd/8o6SwOClWIpbINBgX865557r6PSw89VXXxW7fOT9s2fPdg499FD3I9r7YMXoE0YXSklxCgRoI1ueqAIBHiL2nLp4WZbCJuvHUiBIbg/QoFuOehdx7x17DxVaqsqI06dPn+RWpoKSYXYYDhn89Ya73vpK+DDxl8f+xsd6XSQMgGEmvj5cr9r6aXA8B/Yd6qXO2JThnZCkP9hyqJqtLW5ilmH9Z8SIEYkpp7cgMIZW9V/nl19+8W6u2nohw+tyNCSqVsAEZJxaG4JBgwaJCgX6zAxOGrRD2rVr50Z39B4JPUDouutsgdkM3bIjjzxSNICF2QaXnMWiGsdtQwB3qKqmZMoDHfmLL77YW+SK1hG9Fq4z/alJkyYCHeNSdPfitCFQgUB69+4tGiTE2AOAf1ikYugfQu/PRuxEH0BfYEoGAehCpz3BbWutpq5du4rOhIqqR4ZWEW45NWhP6DFp3anqNwIbCQ38mFOFDh06GDY5G+vgB9wvqm94+eSTT/KuhmehegASVXfI21erG2C/B5ffSU1h76f6KDP6jX7YBvYffOeo+nR9FC1R14RbU3yzeVN93fPeMiRqPQFCSaQi+G0I9IM50nmFvCdoAzj6Ieyo0ZSbx7Bhw1z3ndARjKKzGfcMgXd0tWPHjm7Z4liBJB4U3AwzEqWksBkCNcp0ECk1aoJuI9yN2b9i56kBsavWBW9K9IRRjBj3k8AyAhiNC1KlxHMRf1AdgeeZWk5qLJ03Io9610caP368o84u8sqDtqi2/UB91JfXjJeAxrFg/ymCFN8Z+Daxzzi7hC0D0zICqVUZ0oASy2oRsjZlypTA0N6I2GeT1yc+3HhGSdUUCKDjGndChEt7I3iXPXr0KOlSYQIBbDCixCEo6YKeg2F8Bz/ZKD8iD8KtYl0kGCJC1SANf3XBg9dILwHYE+BD0/sMsOtQpcmC/3moGto62yXeAfWRoDdvy+BfUiWyPlokXddk/yneXnBFrzM7efcZnJowLSOQWpUhuNGCe9BiCdPDiDasATnyDlXfvGZaXD/yBNGNEREYESDVX69ApahYiltlSIUAUa8e5rItW7YUuIOLM+mHv9x00015WUJlSPWF87YHbYhTZSjoGkHbdeZEVBfa7AYjHV0T1Q0MOjyW7VBLwjV1dDWW/KqZCSJFd+nSxfxV8zrMO70EoHZnVSlVX9ytiBodmyjFOlPpbqvVFbhohCtWb9KZYeOy2butLtbVSFU04FjBS6lHNVG7soL7Kt1o1cbgqnKNNdaQVVddtdIseX49EAjrP6W+26tZfPV2Ztx+NmzYUPCeatasWTUvl5M3nnl4vkGN3JvUOY0MGDDAuynT6/8PAAD//yuM91sAACugSURBVO2dCdxN1frHH0pIUgjJXEjmoRRJfWRIMpNIhVJkzlhIXA1yzbm5iZBMyZx5zpAhyjUkcU25pWsoJNL+r9+67f3fe5/zvu857xnes8/5PZ8Pe1p77bW+e7/77GetZxDDI/Kvf/3LKFSokCEi+l/Pnj0Dbvno0aON7NmzW+eadWDZq1cvo2vXrtaxxx57LOB6v//+e6NAgQLWufZ6CxcubHzzzTcB14WC5cqVs+rKli2bsXPnzqDOT6nwyJEjrfrNtt51113G5MmTUzrVcfyFF17wqcesr2DBgsaBAwcc5cO1ce7cOePuu++2rl20aFHj7Nmz4arebz2HDh0ySpYsaV3T7GcsLytWrGicPn3ab3+4M7EJXLlyxWjdurXP+xDP+Jo1axIGztChQ43rr7/e8XeN9+9vv/0WVQbHjh0z7rjjDkc7zHcL9u/duzfs7bl48aLx0UcfGfitQ58rV66s13H/cYziHQLHjx+P+vOTGjorVqwwmjRpYpQvX96oVKmSUbNmTaN79+7GkSNHUlNd0OfgWy1XrlyOv7MbbrjBmDhxYtB1xfMJ4pXOuRWCHj16BNz0/fv3Oz62zRculsWLF7c++G655Rbjk08+CbjeSCoEaNvzzz8fcFsCKdivXz/HHwSuUbVqVWPlypWBnG6VSSuF4OOPPzZuu+02qw9lypSx2hSplYMHDxr33XefdU37sxOr602bNjWuXr0aKSSs18MEevfu7TOIgcGL2bNne7hXwTd9woQJRs6cOR1/16VLlzb+85//BF9ZCGcsX77c0Qb7OwWDH3/++WcItfueigGUzp07+/Qd18WgWTADbb61c0+0CUT7+Qm2f/gdGjNmjIGBR/uzba4/9dRTxuXLl4OtNujyX331lc8gCP7+582bF3Rd8XxCOnRO3ZyYFzVSIvXq1ZN///vfuq3dunUTNeIdcLvVgyczZ870Ka9G4iVdunSiRp9FKQfyxRdfiHpQfMr523H48GF55JFHRI3y+BxWP7KyYMECUT8yPseS2qG0Z9m9e7d1WH38ipplkDx58lj7Qll54oknZPHixY4qHnzwQVFKkOTPn9+xP7mN9u3bywcffOC3iJohEPWS0iz9FghhZ9myZTUPswo1wiWff/65uRmxpVJGdX/xnMS64Dl+7bXXRM2exHpT2b4oE1AzpfKPf/xDvv32W+vKOXLkEDW4Iq+++qq1LxFW8G7u0qWL492tZqD1+6REiRJRQ9CpUyd57733/F6vRYsWMmPGDL/HUrtzwIABgufg119/lZdeekmeeeYZGTRokKgRXF2lGkWVTz/9VKpVq5baS/C8KBJQyp2MGzfO7xWffPJJv988fgtHaCe+Ld5++23Zs2ePtGvXTu6//379XWR+h9x6660yadIkadiwYYRa8L9qV69eLY0aNdLPvXkhfPPMmjVLHnjgAXMXl17RdtwzBBjlCEYWLlxoFClSxK+Wqp4Cvf/FF18Mpkoj0jMEaFfjxo2DalNShTEVjpFAs6/mEqPJwUpyMwSYlouEyVCfPn182q5+0INtOsuTQEISwAwARsDNv3tzGe5ZSK/A3bZtm3HPPfc4eMBMc/369VHtAsz7zHvhXv7zn/8Ma1uWLFli3H777fp6MJM15dlnn3W0ASa2FG8QiObzEywRfLOpQTz9bKlBRMscD9Yd9mfd/iwGe41AyyvF2siYMaPjurAOUQPMgVaREOU8azLUsWPHoG7QmTNnkjQbwsN55513Gmp2IKg6w60Q+DNNgRkTHuZQpW/fvsaNN97o+IOALZ8aKQu66uQUAvhUhFtg8pU3b15H23HP1CxFuC/F+kgg7gjAfhe2u/YfYaw//vjjxrVr1+Kuv4F0CKZBVapU8WEC2/poydGjRw34XLnvC7bhL4f3XrgEv39qhFRfS81qG//973911adOndI23fY2qBmLcF2W9USQAJ6fpHwY8fzs27cvgldPuWp8o+G5wneN3Vegfv36jmdezRykXFmIJd566y3HNdEumBzTtNYJ1jMKwfDhww1lOmPdVDUd5uxJAFuvvPKKdb79BYh12NIHK+FWCOxOxfb24Y97w4YNwTbPKg87VCg89jqxrkyIjN9//90qF+hKcgoBfuB27doVaFUpllNTi477bvYhc+bMITFJ8cIsQAJxQGD79u1GhQoVfP727733XuujMA66maouQCEy3yfmUpmipqqu1Jy0dOlSI1OmTD5tQFvwWxBOgZ8YHMcxQ7Bq1SqragwI5cuXz2oD1tEuSuwTWLZsWdSen2BpYHDVHIRQJkPW6Zs3b/YZmB0yZIh1PFIrsIQw/8bNZYMGDSJ1Oc/WG/MKAaZ0Ro0a5Xc0p1mzZga05EBl69atfj+M4ag6fvz4QKuxyuHH1v4yNR80LGGeE+yMQ1IKAerDB31qPeKhPNnbhnVlN2co+3urL8GsIDqFuz5zG0pbqFOAGBmDAogRPLsSaF4DS/ywfffdd8E0m2VJIKEI4O/D36wjHPwwmJHoovwmjPTp0zveZbVr144aFrepjv399txzz4W1HW+88YbuJwa+fvrpJ6tu5T/g6P9DDz3kGM21CnIl5ghE8/kJtvNQAvA8Kzt9A4E5THn//fcdzxu+k5TfpHk4Ykt/kQKVr13ErufVimPKqRiOTtOmTdMOKCoklHz99ddy4sQJUdOb2ulXPWA+AidWNW0myh5UO8bCSUWF1ZOsWbP6lMUOOEvBcdguyg5PO9YWK1bMvluvqzBsuk1oD5zxcufOLSqko/z444+iPlxFKRk+55g74LAL5044KcNZC+fBcVmF/tNtzJIli1lUL91OxY6DagN1KKVBlD29dmZOyckVPOHIM2fOHEdVcKRW/hLyzjvvOPbbN9SUunz22WeiRrBETTeLigSgHbqxXylCon5U7MWtdTVyL3Xq1BE45mXIkEHUtKXlFI1+g6MpYAieuL+4zvnz5zVTFQlD1FS2WczvUn3UiJqJkJtuusnvce4kgUQm8PPPP2uHUTWKiEEfCwUc6VRkDcE7L9EFzrMDBw7U7xyTBd7PeK+n9G41y6e0RMAJ/Ebg3Yb33KVLl/TvGs5Ts75J/q7h/Yl3PX6TzN8cZQMtCKSgTB1SuqzjOO5/rVq1RM0MSKtWrURFa9PH8V5XI6eydu1aqzycnMeOHWttcyVtCaiworJlyxb9/OBvWvkCBvT84PdRzQL6PD/4bUZwjkiLGn0X5bcpdsd4ZakgCO6i/Jmsyz/66KMyd+5cufnmm6194V5Rg8pSvXp1RwABFVFL1MCl/vsP9/U8XV8saTKIna5egA4NUsENelt9yCbZLdhHqofPUSficiclFy5cSNEZOdg2YrQf9brFPUMA7dqfqQ8YwUEQTtAwqYGGjXjE6oWh/8FkB+EF/ZkKwI8AU+WmDam7Dea2ikbiYBRsHyNdHiOfFBIgAV8CsItV0WMM+B/Z/w4xm2k3F/E9M7H2IE+MGrRxMApnUATkfMCIu/0ehLoOM8/U+H3gN2LTpk2WYyfutFIELCdjtAsz5Qi+QYkNAnh+1IdsWJ8fFakxVc9PsETUQK7x5Zdf6u8R81wVachnxlJFvTIPR2wJZ3p3zhF8P6W1j0XEOhxCxTFlMgSFALatob40k1MI4NxSqlQp6xrwNE/uJYgPd/eHeqjtQ30pKQT4MYfpDaJhwPlXzSZYbXZfX82KaOciRM0AP/youctgG/tVeK+ApoRVKDC/dfirNy32qZGHEB57nkoC8UsAgwEYTLD/XeJ9okbE47fTqegZHG39+RGEy7FYzXBbOW7s9yKUdZjJhkswoGRvC5yN7eZE4boO60kdgVh/foLtlds8DR/l0TD7xXeU/TnHOsyRKb4EYk4hMGcIrrvuOsP80EW4UPMfsjea6+YSCSbsIaWSUwiAQE2L6nBYalpWZ8/74YcffMn8tQcf7vakGvgwV1O4Pm1AW/AjbLbJXGJUDglf7M5jqC8lhcD+ckYYz/79++ssveir++FOaRssYUOHUK2YRQhEYn2GABmmKSRAAk4CCBlpvkPN94Iyf0m1/5Gz9vjb8pesMTUBK/yRge00fiuUWaOBrOr4LcASgRewNP9hFhj78G5HsATzvrmXGMGHP104ZOPGjT6Db9EYrQ1H2xOljkg8Pyp3U5rgw0As/Bbtz3Tbtm2j0haV+8BxXbQB/hcUXwIx5UOgbpT2H4DNFxLmwB7dLerjWFQGR/duvY3kF7BRh91acqKy1olyqhPYtCnnVFHTuskVF/XylEOHDon6qNZ28UkVTq5tOAf29Go6X9QPgN/EL2biLRz/8MMPtd2b/VpoA/wf4BMAW37YpaIf/gQc1I+Mtt8Hr5YtW8rDDz/sr6jffUphEdgfx6qo0GUOf4RYbSfbRQLRIgCbeOU8KkikZxcknnr99dftu7j+FwHY8SOBE96npsCPAO/yUAW/R3jnw58NNtLYVqOi2i9OKQdW9fD1gj/ZH3/8IcocSPtoKXNPfdz0u4IvAvzk1MimKEdo69zUriAZFPwFYJMOwW/FokWLgkqkmdpr87zACAT6/OC3WpkC+31+VBRBge8JfBHglxKu5yewHvx/Kbyb4NsJX0QInjf4i0Y6AR6Sx6pAAfr7zWwNvuPwfVW5cmVzF5d/EYg5hSCR78z06dNFpfnWjmP4EU9O8KDD+U1FWdJL/MHDaU3NBmjnajz0aqRQv+DVSFRyVfEYCZCAxwkgE2fPnj0dmc7RpTZt2ohKcCXKhtbjPYxM8zGogkyleJeaomahRYXejNuPYygZyNpqz/IOJ1AEkQiHsmFy5JIETAJwXofzsClwcp86dap2mDf3RWKJwVNk5IYDvSlwZFZheM1NLm0EqBDYYHCVBEiABLxGYOfOnaIyDvsoAzVr1tTR0xDljJI0ARV+VFTiIkcBRHJToRMd++JlA9HZMCui7Ld1lzB7AaUR+yDKhFZmzZqlZ+mVc7rex/9IILUEMHgJBcBuzTB06FDB3x0Ez5sKjqJnOZo3bx7WmX/lI+RQfBF9CbOlTz/9dGq7E9/n+VoRcQ8JkAAJkIAXCCgzQkNNffvYyKqwoo74317oS1q1Ec6b8CdTv/TWP2QxjVdxO1kiNwEyFpvy8ssvaw7wdUOgDwoJhEIAOZ7sf1vwA1UzclaVXbp0sZ63cOZHUWHifTI5I+iKMg+0rs0VJ4GYcip2No1bJEACJEACSRFAgAB/SQLhpLp+/fqkTuN+PwTUyKTjowUOvMiqGm+ifBF8Qq1CQTAFkZfMqHrhcq426+Yy8QgonwGfd5Qy2XGAQMQfKAwIpKLyPjmOhbJhKhqmMoLgLgi6QEmaABWCpNnwCAmQAAnEJAHlgKojZbhzqmD0TdnHxmSbY7lRyrnYZzRRJVGK5Sanqm3KN0JHOzI/khCO1q74jBs3Tn+cKadPY926dam6Bk8iAZMA/q4KFSrkULYRwdAUDFyoRKn6+IgRI8zdIS9/+eUXA8+w+ZxjiXDzDKubPFoqBMnz4VESIAESiDkCyDWQN29exw8eRsCYayD1t8qdkwAzLSrSS+orjMEzd+zY4XhmkLwS4S0hKnO8js+Oj6cmTZrQtCIG75/XmgSzHftHOQYw1qxZo7uhIiAZjRs31sdhtobQpOES5f/juK6KJmmoyELhqj5u66FCELe3lh0jARKIRwIqEpkjNwp+cJGJM1F/8Pbu3WuY/wLNs+Lvudi+fbvOAG//gGnVqpW/op7dh+yx9pFTFQpS9wU+BMjPg77DzlqFhPRsH9nw2CEAhcCeB6B8+fKGioaoM2arEMn6ecuTJ48xePDgsDVahfHVOZvsf8cwS4L5EiV5AlQIkufDoyRAAiQQMwRU6D4DGcntP3ZYHzhwYMy0MZoNgVM1Rv9glgC7/7Fjx4Z0eXyYwOzK5IvkYVu2bAmpzlg6GSYTsNU2+wdnahVRyahXr57ep3LWGJMnT46lJrMtHiaAWQCVA8l63vDuwrsK/in4e0UiPjx/Kj9T2HoJ0yMkkDWf8cKFCxsffPBB2OqP54qoEMTz3WXfSIAE4oaAyjVgIPqN+UNnLpF1UyVZjJt+BtMRMyIOWMCECiYxoQhmGFQCRwdjjC7GkyDCiztrLPghMtV7771nqORo8dRd9iWNCWD2CQpnpkyZHH9XMMmDQzvs/cMlKpSuoRILOq6Da1MCI8A8BOpNSCEBEiCBWCaA7Opt27YVFSLT0Uwk2Zk9e7bceuutjv2JsIG45ug/MttDkPUUmYdDFdTRrVs3Qbx+CJI9du/eXd59991Qq46Z85HN+uOPPxZlty3qQ03UaK3OZm9mSI6ZhrIhcUEAuQiQmVjN6MmlS5ckV65cghwXSAoYTlEf/7JkyRKrShUxS+diQZZmSsoEqBCkzIglSIAESCDNCODHVE27i7L/drShbNmyMn/+fFHmMo79ibKhHF91dl30N2vWrDrh0CuvvBKW7iOL6vDhw0U5Fev61OyDTt6FREfxJGo2AFYCzGQdTzc1hvuCZ01FSJMMGTKEvZVDhgwRJDxTZkq6bmUqJB07dtQZ3MN+sTitkApBnN5YdosESMD7BFRceFGOn45sm+hVkSJF9McwlIJEFIw29urVS1RkHN19Zfsua9euFeWgGDYcw4YNExUi0ZqBUCYOMnPmTKlUqVLYrsGKSIAEQiegQuSKChMsKumYruyGG24Q5TegZyFCrz1xaqBCkDj3mj0lARLwEAHlF6DNhJQjsVy4cMFqef78+fX0e/Xq1a19ibSCH//nn39eYDJkSvv27WXChAnmZliWMG1QDpDy0UcfiYqMoutU/gXaJOHGG28MyzVYCQmQQGgE8B5QCRpF+Q/oinLkyCGvvfaaNvMLrebEO5sKQeLdc/aYBEjAAwT69u0rU6ZMsUa90OScOXOKCi8q9evX90APwt/ETZs2ydNPP22N2uMKBQoUkL///e/StGnTsF8QMzQqaomouOYC8xqYJjVo0EArZGG/GCskARIIigBmBFq0aCEqwZk+T4XUlRdeeEErBEFVxMKaABUCPggkQAJpQgAfWBjd+e2337RTI+y0g5HTp0+LigqjT4HjJxxr4RwZD6JyDcjo0aMF/gOmZMyYUduxwxkvEUVFWdIzA6YTsclAxTkXFRrU3Az7UkVBkTfffFPPQJw7d05UFBNp166dNlkK+8VYIQmQQEAE8PuhEpvJwoULdXk4DqtcGtpvIKAKWMiHABUCHyTcQQIkEGkCiIyDjywVf1orBDfddJPccsst0qFDBz3iky5dOr9NOHHihB4NwgczBMoEnMhwPqKlqEyYegS3Tp06nnW2nTdvnrz66qty4MABBwOYr6hkPo59ibKBEfqJEyc6zITMvo8cOVJHBTK3I7WETwGulT59eu3kHU9RhyLFjPWSQCQJwHRw5cqV+t0PM6FEHSwJF2MqBOEiyXpIgARSJKCySOqP2gULFugQdO4TVFIoUclr9Oi4PVQcRmnh0AkTGhXXWodLdJ9rbsPGHmHtoBT87W9/M3d7YgnH2C5dugjCQtrlueeeE5Uwyr4rIdb37duno4TAbwDKn1tgIoBnKVrO1Sqxl+CfSoYmsFWmkAAJpB0BRCzCLHP27NnjZnY47WiKUCFIS/q8NgkkGAGM4syaNcsa6cWHOz6w3FKrVi0dJQL24YjBP2DAAFEJlXwUAfwQqGyXcvLkSXcV2rYcDqEqM6vPsVjcgbj3KsmYFerSbCMUmzlz5uhZEHNfvC8vX74s/fr107NBZj4Af31GGNDFixf7O8R9JEACJEACQRCgQhAELBYlARJIPQHEiYapkDn6jSQyPXr00ArCpEmTtPmQWXu2bNkEx5GMS6W2F5WB1jwkpUuXFoSZrFGjhpQqVUouXryoZxveeustgUmRXZD4RmVflfLly9t3x9w6EkQhbJ471wBCXCLXAGZOEkEQRnTcuHEyY8YMS2lMqt9QBGFChfCjFBIgARIggdAIUCEIjR/PJgESCIDA8ePHtW/A5s2bdWmYBe3du1evI6Rj0aJF5ezZs46a8DEM8yBz9B8mGi+++KJWIvyZa4waNUp/HGIa2S6wx0fCmlgV9BuRcz7//HNHExH3Hg5zYBXPAsdwPBeYBdm4caMcPXo0oO7imfniiy+0eVhAJ7AQCZAACZBAkgSoECSJhgdIgATCRQBmHS+//LIcO3ZM21/DQbRu3bq6enz0V6tWzWdEuGrVqoIwkxBEdkGiGZRLSmBLWrFiRTl//ryjCOrZsGGDdgZ1HIiBDWTubNOmjZ45sdvIw1QKo+RVqlSJgVaGrwlQ1hAlCMoPlEREB8IzAbMxM8NooFdDwjZkFKaQAAmQAAmEToAKQegMWQMJkEAKBBAeDtFzIOXKlRO7XTjMZJ588skkR4YRe3/p0qUpZohFSEg4IpvZKs0mwcRo2bJlEmxYU/P8SC6RawDOwnY/CvhVwPcByXa8JpjtQF+g6MB869tvv9WKHszEYA6Ef/jwx70KRcAIMwoPPfRQKNXwXBIgARIggb8IUCHgo0ACJBBRAhgBrlmzphw8eFBfB86iCDlqyvTp03V8eTiSugWhRGE2g/NTEuQlKFmypGBpl0KFCukRaXvUIvvxtFofO3asTnplj6uPDLiVK1cWmAsFI0igBQdrUxDNCUm03ALGYOoWxPRGngOwQwSd5AQzOmgnsifDfwMZfc3ZDUSDwgwNlv7uZ3L1BnMMviNff/11TM76BNMPliUBEiCBWCFAhSBW7gTbQQJxSgAx5BH+Ex+P+fLlkyVLlkiZMmWs3kI5QPQhfxJMuM09e/YIklThA9UuMDeCiUqRIkXsu9N0HY7CcJY2laQ0bYwHL47nKalnxoPdYZNJgARIIM0JUCFI81vABpBAfBOAORCiC0EQJhJhR7NkyWJ1Gr4EMAlyCz7gMQqMpGOBCGzuW7Zs6VMUEYngtIpMxrEgiKkPfwrE2KcETwBK5fLly+Pe2Tp4MjyDBEiABFJPgApB6tnxTBIggQAIwBEY0WAgiLMP+3hTYFoCR+BDhw6Zu/QSWYsRThIRggIVhCj1l7wLOQ3wARkLsnv3boEzrBl6NRba5LU21K5dW/uEeK3dbC8JkAAJxDIBKgSxfHfYNhKIAwJILAYlALMCsI9v2LCh1Ss4FD/xxBM+dv8IKblixQqB/X+gglwD+OB2C/If9O/f37076tvwFcBsybZt26J+7Xi5YPr06bUzMZzUKSRAAiRAAuEjQIUgfCxZEwmQQJAE4FjbpUsXn7OgOGzdutVnf1I78LGNkWO3TT6cc5GYDMfSUhB9p1mzZrJ69eq0bIbnr12sWDEdQjZ37tye7ws7QAIkQAKxRIAKQSzdDbaFBBKMAGYLFixY4NPrTp06CZSFQAUzEF27dtXRbeznVKhQQYc7RVz/tBRE3qlTp05QSk5atjdWrx3scxGr/WC7SIAESCDWCFAhiLU7wvaQQIIQQCx6RAVCrHq7wPl32rRp2gHZvj+59fr168uiRYt8isDJGGFNY0EQBem7776LhaYk24Z06dJZx+3r2GnfTmrdXc69bT8vmGMoi5wSsZhPAm2jkAAJkICXCVAh8PLdY9tJwMMEEPmnXr16AnMau8AsBFGHAg0TikRkyFPgdtSFWcmYMWOkefPm9uq5TgIkQAIkQAIk4CJAhcAFhJskQALRITB06FC/zr733XefwNk4UEFI086dOzuy/eJcJCLDrEGwSb4CvS7LkQAJkAAJkEC8EKBCEC93kv0gAY8RqF69unYQdTcbMfrHjRvn3p3kNnIbIPGYWxo1aiSfffaZeze3SYAESIAESIAEXASoELiAcJMESCDyBM6cOSOVKlWSI0eOOC4G/4EpU6boUKSOA0lsrFq1Srp37+5jLpQtWzZtdvTAAw8kcSZ3kwAJkAAJkAAJmASoEJgkuCQBEogaASQqg/8Aou/YBeY9EyZMkBo1ath3J7kOs6O33npLLl686CiDPAbuEKRIftazZ085fPiwFC5cWN555x1BFmMKCZAACZAACSQ6ASoEif4EsP8kkAYEhg0bJn369PG58r333htU4i57FmR7Zf7MjubOnSsdO3bUvgZQPObPny+lSpWyn8Z1EiABEiABEkhIAlQIEvK2s9MkkLYEMDuwZMkSn0bggx2JxAKRZcuWSY8ePWT//v2O4vny5ZMDBw7ozMj2A8gSDAdkCPwX1q1bp9f5HwmQAAmQAAkkOgEqBIn+BLD/JBBlAj///LM88sgjPnb/wfoPjB8/Xvr27Su//vqrowcY9UfMf7t8//330rhxY/nmm290HPtevXpJt27d7EW4TgIkQAIkQAIJS4AKQcLeenacBNKGwIYNG6R169Zy7NgxRwOQfwDRggIJE4oZgEGDBsmsWbMcdWCjX79+8uabbzr2Dxw4UEaPHq0zGT/00EPSu3fvoBKfOSrjBgmQAAmQAAnEGQEqBHF2Q9kdEoh1AhjZh42/W4LJP4DoQhjh37t3r6OaPHnyyKlTpxz79u3bJ02aNNFmRDjQvn177bjsKMQNEiABEiABEkhgAlQIEvjms+skkBYE8HHuLz+AP0fgpNpnGIZ2CMbHvl3uuecePctQsGBBa3eDBg1k4cKFerty5cryxhtvSO3ata3jXlq5du2aoO/XX3+9l5odUFth+nXlyhXJkSNHQOVZiARIgARIIHwEqBCEjyVrIgESSIHATz/9JHXr1pWdO3c6SsJ/YNq0aUGZ8Tz11FMyc+ZMRz12/4Fz585Jhw4drDIFChTQswrIW+A1gd/Ftm3bZPny5XL58mU9y1GxYkWvdSPJ9sJUDMnoLly4oJ3KS5cunWRZHiABEiABEgg/ASoE4WfKGkmABJIgMHHiRBk8eLAcP37cUaJ48eJ6ZL9IkSKO/cltrFy5Ul566SWdV8AslyVLFhkwYIDeB18F+BpAEHmofv362o/Aa6PrMIEaPny49pc4efKk7g/6MmbMGLHPhOgDHvsPOSGmTp2q7/327dsFisCMGTOkZMmSHusJm0sCJEAC3iZAhcDb94+tJwFPEUCoUYQcdUubNm1k0qRJ7t0pbsOPAB+UZ8+eTbIsnJVr1qypE5hlzZo1yXKxemDLli3Sv39/WbNmjaOJO3bsEK/MEvz444+Cf1DY4Pfx5Zdf6v4gMZ09bCwVAsct5gYJkAAJRI0AFYKooeaFSIAEkC342Weflc2bN1swkIxsxIgR8uCDD1r7Al2B3TkyFUPRQEhRt8BRuV27dtrExn3MK9sYMW/ZsqWjuY8++qg2scHMihcE7UXo19OnT/tklba3nwqBnQbXSYAESCB6BKgQRI81r0QCJKAILFq0SKZPn65zBVStWlUrCFiGIjAfQqIymAhlypRJ7r77bsmePbv2ScC6lwU5FWAaZSpRhQsX1mFVW7Ro4ZluYYYGkaFMyZgxo+TOnVty5colmOkwhQqBSYJLEiABEoguASoE0eXNq5EACZBA0ATwMT137lyB83WFChWkadOmQdeRlic0bNhQrl69qpPCIRIUlAEobHCSHjVqlNU0KgQWCq6QAAmQQFQJUCGIKm5ejARIgARIwCSAjNFwmDaFCoFJgksSIAESiC4BKgTR5c2rkQAJkAAJ/EWACgEfBRIgARKIDQJUCGLjPrAVJEACJJBwBKgQJNwtZ4dJgARilAAVghi9MWwWCZAACcQ7ASoE8X6H2T8SIAGvEKBC4JU7xXaSAAkkDAHE7EdmYjjiIrtz+fLlBSFU06VLF1cMqBDE1e1kZ0iABDxMgAqBh28em04CJBB/BBBeFInI1q5da3Uuf/78giRszZo1E6zHi1AhiJc7yX6QAAl4nQAVAq/fQbafBEggbgisX79eBgwYIBs3btQf/lWqVJFZs2ZZ/RszZox06tQpbmYKqBBYt5YrJEACJJCmBKgQpCl+XpwESIAE/kdg//790rVrV0GStTJlysiUKVOkYMGCUqNGDdm1a5cuVKJECZk9e7aUKlUqSWxnz55N8lgkD2TIkEFuuummoC5BhSAoXCxMAiRAAhEjQIUgYmhZMQmQAAkETqBt27YyefJkufPOO2XJkiVSvHhx+eGHH6RWrVqyd+9eXVHmzJl1ludGjRr5rXj06NGCf/g4j6YYhqHb+e677wraGKi4FYKiRYsK6mjQoEGgVbAcCZAACZBAGAhQIQgDRFZBAiRAAqEQWLx4sfTt21d/+Pfu3VveeecdXR3MhVq0aOGoGmUff/xxxz5swAG5c+fOMmHCBJ9j0dhRtmxZWbp0qdx+++0BX86tECCLMWZASpYsGXAdLEgCJEACJBA6ASoEoTNkDSRAAiQQEoE+ffrIsGHDJG/evLJ9+3a9RIU9evSQkSNHWnUXKlRIVq9eLUWKFLH22Vdw7ty5c1M9Q3D58mXHCL87qpF9276ONjz22GMCpSBjxoz2JiW77lYIMCvy6aefJmsSlWyFPEgCJEACJJAqAlQIUoWNJ5EACZBAeAgcPnxYWrVqJVu3bpWaNWvKihUrdMW//PKL1K9fX+BobApmBjBDEC/iVgjuuusumTdvHhWCeLnB7AcJkIBnCFAh8MytYkNJgATikcDx48elffv2kj59enn99dd1vgH0c9myZdKyZUsxnYRz5swp7733njRv3jxuMLgVgsKFC8vChQupEMTNHWZHSIAEvEKACoFX7hTbSQIkELcE/vjjD7l27ZrD3MZ0MjY7DZOcoUOH6iRl5j6vL90KQYECBfQMSOnSpb3eNbafBEiABDxFgAqBp24XG0sCJJAIBE6cOCFPPPGE7N692+ouZg8GDRpkbcfDilshuOOOO7RjMhWCeLi77AMJkICXCFAh8NLdYltJgAQSggBMg5CAzJRixYrJjBkzpEKFCuauuFi6FYLcuXNrHwrkYaCQAAmQAAlEjwAVguix5pVIgARIIEUCf/75p47Db3cehjMxQpBmyZIlxfO9VMCtENx2222yatUqnZjNS/1gW0mABEjA6wSoEHj9DrL9JEACcUVgz5492nH4wIEDVr/Gjh1rzRhcuXJF4HOA5GPuBGTz58+X999/X/sjWCdHaeXhhx+Wdu3aSZ48eQK+olshuPXWW2XdunVUCAImyIIkQAIkEB4CVAjCw5G1kAAJkEBYCPTv3187D5uVIVkXIg7lz59f7xoyZIisWbNGqlWrJoMHDzaLCRQFZPhF2bQQ5EbYtWuX3HzzzQFf3q0Q4NwNGzbofAYBV8KCJEACJEACIROgQhAyQlZAAiRAAuEhcOTIER1qFDkJTEGYUZgLQZCboG7durJp0ybp0KGDjB8/3iyml/iYfvvtt3UIU8eBKGygnc8880xQV3IrBDCJQt+Q4IxCAiRAAiQQPQJUCKLHmlciARIggWQJLFiwQH9U48Mfki1bNvnkk0+0EoBtZC3u27ev5MiRQzCT0LFjR+z2rLgVgkyZMsmWLVukXLlynu0TG04CJEACXiRAhcCLd41tJgESiEsCw4cPF3wkmwKzIMwO3H777XL58mVp2LChLF++XIckHTFihCCzr5fFrRDAJ2Lbtm1UCLx8U9l2EiABTxKgQuDJ28ZGkwAJxCMBt/9As2bNZPbs2bqrw4YNkz59+uj1CRMm6OzGXmGAyEmmwCEaWZlPnz4tAwYMkA8//NA8JOnSpZOJEydK7dq1JVeuXHLdddcJzkV5/KOQAAmQAAlEhgAVgshwZa0kQAIkEDSBOXPm6AhD5omtW7eWUaNGydSpU6V79+56d4sWLQQzCUji5RWB8/PKlSslc+bMOjISPvyhEBw8eFDOnTvn6EbFihWtSEVwlMaswcWLFzUDZDKmkAAJkAAJhJ8AFYLwM2WNJEACJJAqAqdOnZJ69erJV199pc+HSVDevHl15B3sQD4C+BEULVo0VfWn1UnIsmyPiBRsO0qUKKGjJ1EhCJYcy5MACZBAYASoEATGiaVIgARIICoE4FQLUxqE8Dxz5oy+5p133in333+/IORo4cKFo9KOcF4EjtDz5s3TPg8Y9XcLZgGuXr3q3q23L126JCdPntRKERUCv4i4kwRIgARCJkCFIGSErIAESIAEwktgx44dcvjwYTl69KgULFhQihUrpkNxwtTGi4KP+vPnz1umQO4+GIah/Qfc+7H9+++/63Cr8CmgkAAJkAAJRIYAFYLIcGWtJEACJEACJEACJEACJOAJAlQIPHGb2EgSIAESIAESIAESIAESiAwBKgSR4cpaSYAESIAESIAESIAESMATBKgQeOI2sZEkQAIkQAIkQAIkQAIkEBkCVAgiw5W1kgAJkAAJkAAJkAAJkIAnCFAh8MRtYiNJgARIgARIgARIgARIIDIEqBBEhitrJQESIAESIAESIAESIAFPEKBC4InbxEaSAAmQAAmQAAmQAAmQQGQIUCGIDFfWSgIkQAIkQAIkQAIkQAKeIECFwBO3iY0kARIgARIgARIgARIggcgQoEIQGa6slQRIgARIgARIgARIgAQ8QYAKgSduExtJAiRAAiRAAiRAAiRAApEhQIUgMlxZKwmQAAmQAAmQAAmQAAl4ggAVAk/cJjaSBEiABEiABEiABEiABCJDgApBZLiyVhIgARIgARIgARIgARLwBAEqBJ64TWwkCZAACZAACZAACZAACUSGABWCyHBlrSRAAiRAAiRAAiRAAiTgCQJUCDxxm9hIEiABEiABEiABEiABEogMASoEkeHKWkmABEiABEiABEiABEjAEwSoEHjiNrGRJEACJEACJEACJEACJBAZAlQIIsOVtZIACZAACZAACZAACZCAJwhQIfDEbWIjSYAESIAESIAESIAESCAyBKgQRIYrayUBEiABEiABEiABEiABTxCgQuCJ28RGkgAJkAAJkAAJkAAJkEBkCFAhiAxX1koCJEACJEACJEACJEACniBAhcATt4mNJAESIAESIAESIAESIIHIEKBCEBmurJUESIAESIAESIAESIAEPEHg/wAl1+ACkztH6AAAAABJRU5ErkJggg==)"
   ]
  },
  {
   "cell_type": "code",
   "execution_count": 116,
   "metadata": {
    "colab": {
     "base_uri": "https://localhost:8080/",
     "height": 493
    },
    "id": "VHO6u4WYRnA8",
    "outputId": "900d965a-d050-4455-e8f3-a3a8c44cd084"
   },
   "outputs": [
    {
     "name": "stdout",
     "output_type": "stream",
     "text": [
      "{1: 0.25796178343949044, 3: 0.2802547770700637, 5: 0.2611464968152866, 7: 0.25477707006369427, 9: 0.25796178343949044, 11: 0.25477707006369427, 13: 0.2484076433121019, 15: 0.24522292993630573, 17: 0.2484076433121019, 19: 0.27070063694267515}\n"
     ]
    },
    {
     "data": {
      "image/png": "[encoded data removed]",
      "text/plain": [
       "<Figure size 640x480 with 1 Axes>"
      ]
     },
     "metadata": {},
     "output_type": "display_data"
    }
   ],
   "source": [
    "# Calculate MSE for each model\n",
    "mse_dict = {}\n",
    "for k in dict_correct:\n",
    "  mse_dict[k] = dict_correct[k][1] / (dict_correct[k][0] + dict_correct[k][1])\n",
    "print(mse_dict)\n",
    "plt.scatter(mse_dict.keys(), mse_dict.values())\n",
    "plt.xlabel('k')\n",
    "plt.ylabel('Mean Squared Error')\n",
    "plt.xticks(range(1, 21, 2))\n",
    "plt.ylim(0, 0.5)\n",
    "plt.show()"
   ]
  },
  {
   "cell_type": "markdown",
   "metadata": {
    "id": "qkuDzJzGSgn4"
   },
   "source": [
    "Now, since we did not have a very high accuracy with our own model, we will try with scikit-learn's k-Nearest Neighbors model since it is more optimized.  We can then compare the MSE of both models."
   ]
  },
  {
   "cell_type": "code",
   "execution_count": 117,
   "metadata": {
    "id": "DLhX47W1FGF_"
   },
   "outputs": [],
   "source": [
    "# import\n",
    "from sklearn.neighbors import KNeighborsRegressor"
   ]
  },
  {
   "cell_type": "code",
   "execution_count": 118,
   "metadata": {
    "colab": {
     "base_uri": "https://localhost:8080/",
     "height": 493
    },
    "id": "oc7LuZr2-_lA",
    "outputId": "ba9d1b63-9e87-4364-a804-2a8e8f14162f"
   },
   "outputs": [
    {
     "name": "stdout",
     "output_type": "stream",
     "text": [
      "{1: 0.25796178343949044, 3: 0.18895966029723996, 5: 0.17859872611464972, 7: 0.17541921227089563, 9: 0.17091295116772826, 11: 0.16810549034058006, 13: 0.16846945313383338, 15: 0.1742533616418967, 17: 0.17726401163687658, 19: 0.17811457910616302}\n"
     ]
    },
    {
     "data": {
      "image/png": "[encoded data removed]",
      "text/plain": [
       "<Figure size 640x480 with 1 Axes>"
      ]
     },
     "metadata": {},
     "output_type": "display_data"
    }
   ],
   "source": [
    "size = len(range(1, 21, 2))\n",
    "knn_models = []\n",
    "mse_dict = {}\n",
    "for i in range(size):\n",
    "  knn_models.append(KNeighborsRegressor(n_neighbors=(2 * i + 1)))\n",
    "  knn_models[i].fit(x_train, y_train)\n",
    "  y_pred = knn_models[i].predict(x_test)\n",
    "  mse_dict[(2 * i) + 1] = mean_squared_error(y_test, y_pred)\n",
    "print(mse_dict)\n",
    "\n",
    "plt.scatter(mse_dict.keys(), mse_dict.values())\n",
    "plt.xlabel('k')\n",
    "plt.ylabel('Mean Squared Error')\n",
    "plt.xticks(range(1, 21, 2))\n",
    "plt.ylim(0, 0.5)\n",
    "plt.show()"
   ]
  },
  {
   "cell_type": "markdown",
   "metadata": {
    "id": "RTAIKbgdUYQ_"
   },
   "source": [
    "In the case of binary classification, MSE represents the inverse of the percentage correct (MSE = 1 - %correct).  Thus, at a lower MSE, more of the test data is correctly predicted.  This means that at k = 11, there was an accuracy of 83.19% (MSE = 0.1681 for k = 11), representing a roughly 8% increase in accuracy from the hand-coded model."
   ]
  },
  {
   "cell_type": "markdown",
   "metadata": {
    "id": "aX6eUUDdVMYq"
   },
   "source": [
    "Another option for binary classification is the logistic regression, which computes the probability of an event occuring (in this case, a high quality wine) based on the feature values.  If this computed probability is found to be higher than 0.5, then the outputted value is 1, and vice versa.  We will be using StatsModels's Logistic Regression model here, and comparing the Mean Squared Error.  k-Nearest Neighbors is a non-linear model, and logistic regression is a linear model.  Thus, we can perform hypothesis tests alongside logistic regression in order to figure out if there is a correlation between our feature values and the quality of wine.  When performing these hypothesis tests, our null hypothesis is that there is no correlation between quality and our features."
   ]
  },
  {
   "cell_type": "code",
   "execution_count": 119,
   "metadata": {
    "colab": {
     "base_uri": "https://localhost:8080/"
    },
    "id": "ksLwXqHaPckD",
    "outputId": "1abeedfe-934f-4812-fc15-a30506c98e0f"
   },
   "outputs": [
    {
     "name": "stdout",
     "output_type": "stream",
     "text": [
      "Optimization terminated successfully.\n",
      "         Current function value: 0.525232\n",
      "         Iterations 6\n"
     ]
    },
    {
     "data": {
      "text/plain": [
       "array([ 0.20795289,  0.31556389, -0.60712414, -0.34149926,  0.02238995,\n",
       "       -0.15015576,  0.2710041 , -0.54175279, -0.0445139 , -0.01947663,\n",
       "        0.43199535,  0.88651583])"
      ]
     },
     "execution_count": 119,
     "metadata": {},
     "output_type": "execute_result"
    }
   ],
   "source": [
    "# Need to add constant to the training data since StatsModels does not take intercept into account\n",
    "x_train_new = smf.add_constant(x_train)\n",
    "model = smf.Logit(y_train, x_train_new).fit()\n",
    "model.params"
   ]
  },
  {
   "cell_type": "code",
   "execution_count": 125,
   "metadata": {
    "colab": {
     "base_uri": "https://localhost:8080/",
     "height": 483
    },
    "id": "RZdUMSDRXPQG",
    "outputId": "4de04650-895a-402b-c49f-189b9fdd614e"
   },
   "outputs": [
    {
     "name": "stdout",
     "output_type": "stream",
     "text": [
      "MSE:  0.24522292993630573\n"
     ]
    },
    {
     "data": {
      "text/html": [
       "<table class=\"simpletable\">\n",
       "<caption>Logit Regression Results</caption>\n",
       "<tr>\n",
       "  <th>Dep. Variable:</th>           <td>y</td>        <th>  No. Observations:  </th>  <td>  1257</td>  \n",
       "</tr>\n",
       "<tr>\n",
       "  <th>Model:</th>                 <td>Logit</td>      <th>  Df Residuals:      </th>  <td>  1245</td>  \n",
       "</tr>\n",
       "<tr>\n",
       "  <th>Method:</th>                 <td>MLE</td>       <th>  Df Model:          </th>  <td>    11</td>  \n",
       "</tr>\n",
       "<tr>\n",
       "  <th>Date:</th>            <td>Tue, 09 May 2023</td> <th>  Pseudo R-squ.:     </th>  <td>0.2396</td>  \n",
       "</tr>\n",
       "<tr>\n",
       "  <th>Time:</th>                <td>21:18:28</td>     <th>  Log-Likelihood:    </th> <td> -660.22</td> \n",
       "</tr>\n",
       "<tr>\n",
       "  <th>converged:</th>             <td>True</td>       <th>  LL-Null:           </th> <td> -868.27</td> \n",
       "</tr>\n",
       "<tr>\n",
       "  <th>Covariance Type:</th>     <td>nonrobust</td>    <th>  LLR p-value:       </th> <td>2.315e-82</td>\n",
       "</tr>\n",
       "</table>\n",
       "<table class=\"simpletable\">\n",
       "<tr>\n",
       "    <td></td>       <th>coef</th>     <th>std err</th>      <th>z</th>      <th>P>|z|</th>  <th>[0.025</th>    <th>0.975]</th>  \n",
       "</tr>\n",
       "<tr>\n",
       "  <th>const</th> <td>    0.2080</td> <td>    0.069</td> <td>    3.007</td> <td> 0.003</td> <td>    0.072</td> <td>    0.344</td>\n",
       "</tr>\n",
       "<tr>\n",
       "  <th>x1</th>    <td>    0.3156</td> <td>    0.196</td> <td>    1.610</td> <td> 0.107</td> <td>   -0.069</td> <td>    0.700</td>\n",
       "</tr>\n",
       "<tr>\n",
       "  <th>x2</th>    <td>   -0.6071</td> <td>    0.099</td> <td>   -6.152</td> <td> 0.000</td> <td>   -0.801</td> <td>   -0.414</td>\n",
       "</tr>\n",
       "<tr>\n",
       "  <th>x3</th>    <td>   -0.3415</td> <td>    0.124</td> <td>   -2.756</td> <td> 0.006</td> <td>   -0.584</td> <td>   -0.099</td>\n",
       "</tr>\n",
       "<tr>\n",
       "  <th>x4</th>    <td>    0.0224</td> <td>    0.086</td> <td>    0.259</td> <td> 0.796</td> <td>   -0.147</td> <td>    0.192</td>\n",
       "</tr>\n",
       "<tr>\n",
       "  <th>x5</th>    <td>   -0.1502</td> <td>    0.080</td> <td>   -1.872</td> <td> 0.061</td> <td>   -0.307</td> <td>    0.007</td>\n",
       "</tr>\n",
       "<tr>\n",
       "  <th>x6</th>    <td>    0.2710</td> <td>    0.097</td> <td>    2.795</td> <td> 0.005</td> <td>    0.081</td> <td>    0.461</td>\n",
       "</tr>\n",
       "<tr>\n",
       "  <th>x7</th>    <td>   -0.5418</td> <td>    0.107</td> <td>   -5.073</td> <td> 0.000</td> <td>   -0.751</td> <td>   -0.332</td>\n",
       "</tr>\n",
       "<tr>\n",
       "  <th>x8</th>    <td>   -0.0445</td> <td>    0.172</td> <td>   -0.259</td> <td> 0.796</td> <td>   -0.381</td> <td>    0.292</td>\n",
       "</tr>\n",
       "<tr>\n",
       "  <th>x9</th>    <td>   -0.0195</td> <td>    0.127</td> <td>   -0.153</td> <td> 0.878</td> <td>   -0.269</td> <td>    0.230</td>\n",
       "</tr>\n",
       "<tr>\n",
       "  <th>x10</th>   <td>    0.4320</td> <td>    0.084</td> <td>    5.156</td> <td> 0.000</td> <td>    0.268</td> <td>    0.596</td>\n",
       "</tr>\n",
       "<tr>\n",
       "  <th>x11</th>   <td>    0.8865</td> <td>    0.123</td> <td>    7.202</td> <td> 0.000</td> <td>    0.645</td> <td>    1.128</td>\n",
       "</tr>\n",
       "</table>"
      ],
      "text/plain": [
       "<class 'statsmodels.iolib.summary.Summary'>\n",
       "\"\"\"\n",
       "                           Logit Regression Results                           \n",
       "==============================================================================\n",
       "Dep. Variable:                      y   No. Observations:                 1257\n",
       "Model:                          Logit   Df Residuals:                     1245\n",
       "Method:                           MLE   Df Model:                           11\n",
       "Date:                Tue, 09 May 2023   Pseudo R-squ.:                  0.2396\n",
       "Time:                        21:18:28   Log-Likelihood:                -660.22\n",
       "converged:                       True   LL-Null:                       -868.27\n",
       "Covariance Type:            nonrobust   LLR p-value:                 2.315e-82\n",
       "==============================================================================\n",
       "                 coef    std err          z      P>|z|      [0.025      0.975]\n",
       "------------------------------------------------------------------------------\n",
       "const          0.2080      0.069      3.007      0.003       0.072       0.344\n",
       "x1             0.3156      0.196      1.610      0.107      -0.069       0.700\n",
       "x2            -0.6071      0.099     -6.152      0.000      -0.801      -0.414\n",
       "x3            -0.3415      0.124     -2.756      0.006      -0.584      -0.099\n",
       "x4             0.0224      0.086      0.259      0.796      -0.147       0.192\n",
       "x5            -0.1502      0.080     -1.872      0.061      -0.307       0.007\n",
       "x6             0.2710      0.097      2.795      0.005       0.081       0.461\n",
       "x7            -0.5418      0.107     -5.073      0.000      -0.751      -0.332\n",
       "x8            -0.0445      0.172     -0.259      0.796      -0.381       0.292\n",
       "x9            -0.0195      0.127     -0.153      0.878      -0.269       0.230\n",
       "x10            0.4320      0.084      5.156      0.000       0.268       0.596\n",
       "x11            0.8865      0.123      7.202      0.000       0.645       1.128\n",
       "==============================================================================\n",
       "\"\"\""
      ]
     },
     "execution_count": 125,
     "metadata": {},
     "output_type": "execute_result"
    }
   ],
   "source": [
    "# predict for testing data\n",
    "x_test_new = smf.add_constant(x_test)\n",
    "# returns probabilities for each\n",
    "y_pred = model.predict(x_test_new)\n",
    "# convert probability to predictions (0 or 1)\n",
    "y_pred = 1 * (y_pred > 0.5)\n",
    "\n",
    "print('MSE: ', mean_squared_error(y_test, y_pred))\n",
    "\n",
    "model.summary()"
   ]
  },
  {
   "cell_type": "markdown",
   "metadata": {
    "id": "nDuTrnn7LRKn"
   },
   "source": [
    "Our logistic regression yielded an MSE of 0.2452, which is higher than the error for the sklearn kNN model, and similar to the values from our own model.  As seen in the summary above, this model achieved a p-value of 2.315e-832, which is significantly lower than 0.05, our cutoff to reject the null hypothesis.  P-values represent the probability that, assuming the null hypothesis to be true, we would obtain a result as extreme or more extreme than the one found in the data.  Since we have a very low p-value, we are able to reject the null hypothesis, and we have found a statistically significant relationship between the feature values and wine quality.\n",
    "\n",
    "\n",
    "---\n",
    "\n"
   ]
  },
  {
   "cell_type": "markdown",
   "metadata": {
    "id": "6qudahBsZLsx"
   },
   "source": [
    "## **Part 4: Insights and Interpretation**"
   ]
  },
  {
   "cell_type": "markdown",
   "metadata": {
    "id": "zgaRPuP2ZX0m"
   },
   "source": [
    "In this project, we analyzed UC Irvine's dataset on red wine quality in order to classify wine as either higher or lower quality.  The feature values that we made use of for our models are volatile acidity, sulphates, and alcohol content.  We utilized two different methods to do this: k-Nearest Neighbors and logistic regression.  Within our two attempts at k-Nearest Neighbors, one using a hand-coded version of the algorithm and one with the sklearn library, which performed roughly 8% better than our own version.  \n",
    "\n",
    "The logistic regression performed around the same as our own version of kNN, and in doing so, we were able to establish a significantly significant relationship between our features and wine quality.  With that being said, our logistic regression model did perform worse than the sklearn kNN model, which was able to achieve over 80% accuracy.\n",
    "\n",
    "The relationship that we established in this project may prove useful to wine producers, as wine is priced primarily on quality.  Thus, being able to identify the quality of wine using quantitative measures as opposed to the subjective measure of taste could prove useful.  Perhaps, more models like these could be developed in the future in order to create better, more accurate pricing models for producers, stores, and restaurants.  As this industry continues to grow, producers will look for ways to get an edge over others, and models like this may provide that edge in the future.\n",
    "\n",
    "\n",
    "---\n",
    "\n"
   ]
  },
  {
   "cell_type": "markdown",
   "metadata": {
    "id": "2lK17Z7JerZI"
   },
   "source": [
    "## **Bibliography:**\n",
    "\n",
    "**Data Source:**\n",
    "\n",
    "[University of California Irvine Wine Quality Dataset](https://archive.ics.uci.edu/ml/datasets/wine+quality)\n",
    "\n",
    "\n",
    "**Information Sources:**\n",
    "\n",
    "[US Wine Consumption Data](https://wineinstitute.org/our-industry/statistics/us-wine-consumption/)\n",
    "\n",
    "[Wine Market Size, Share & Trends Analysis Report](https://www.grandviewresearch.com/industry-analysis/wine-market#:~:text=The%20global%20wine%20market%20size,key%20factor%20for%20market%20growth)\n",
    "\n",
    "[P-Value Information](https://www.ncbi.nlm.nih.gov/pmc/articles/PMC4111019/#:~:text=The%20P%20value%20is%20defined,groups%20is%20due%20to%20chance)\n",
    "\n",
    "[Hypothesis Testing with Logistic Regression](https://www.statology.org/null-hypothesis-of-logistic-regression/)\n",
    "\n",
    "\n",
    "**Helpful Links:**\n",
    "\n",
    "[k-Nearest Neighbors](https://www.ibm.com/topics/knn#:~:text=The%20k%2Dnearest%20neighbors%20algorithm%2C%20also%20known%20as%20KNN%20or,of%20an%20individual%20data%20point.)\n",
    "\n",
    "[Logistic Regression](https://www.ibm.com/topics/logistic-regression#:~:text=Resources-,What%20is%20logistic%20regression%3F,given%20dataset%20of%20independent%20variables.)\n",
    "\n",
    "[Classification Algorithms](https://towardsdatascience.com/top-machine-learning-algorithms-for-classification-2197870ff501)\n",
    "\n",
    "[Prediction Models](https://www.netsuite.com/portal/resource/articles/financial-management/predictive-modeling.shtml)"
   ]
  }
 ],
 "metadata": {
  "colab": {
   "provenance": []
  },
  "kernelspec": {
   "display_name": "Python 3",
   "language": "python",
   "name": "python3"
  },
  "language_info": {
   "codemirror_mode": {
    "name": "ipython",
    "version": 3
   },
   "file_extension": ".py",
   "mimetype": "text/x-python",
   "name": "python",
   "nbconvert_exporter": "python",
   "pygments_lexer": "ipython3",
   "version": "3.8.1"
  }
 },
 "nbformat": 4,
 "nbformat_minor": 1
}
